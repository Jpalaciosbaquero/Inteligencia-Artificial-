{
  "cells": [
    {
      "cell_type": "markdown",
      "metadata": {
        "id": "view-in-github",
        "colab_type": "text"
      },
      "source": [
        "<a href=\"https://colab.research.google.com/github/Jpalaciosbaquero/Inteligencia-Artificial-/blob/main/Taller_IA.ipynb\" target=\"_parent\"><img src=\"https://colab.research.google.com/assets/colab-badge.svg\" alt=\"Open In Colab\"/></a>"
      ]
    },
    {
      "cell_type": "code",
      "source": [],
      "metadata": {
        "id": "DhlZ06N3M6JN"
      },
      "id": "DhlZ06N3M6JN",
      "execution_count": null,
      "outputs": []
    },
    {
      "cell_type": "markdown",
      "id": "a5155ff9",
      "metadata": {
        "id": "a5155ff9"
      },
      "source": [
        "# Inteligencia artificial- *José Daniel Palacios Baquero*\n",
        "## Objetos en Python\n",
        "\n",
        "1.  ¿Cuál de los siguientes NO es un tipo de objeto básico en Python?\n",
        "Respuesta: D, función matematica\n",
        "2.  En Python, los valores True y False pertenecen al tipo:\n",
        "Respuesta: B, Boleano\n",
        "3.  ¿Cuál de los siguientes objetos se considera un tipo numérico en Python?\n",
        "Respuesta: A, int, float y complex\n",
        "4.  ¿Qué imprime este código?"
      ]
    },
    {
      "cell_type": "code",
      "execution_count": null,
      "id": "225f8cab",
      "metadata": {
        "id": "225f8cab"
      },
      "outputs": [],
      "source": [
        "x = (1, 2, 3)\n",
        "print(x[1])"
      ]
    },
    {
      "cell_type": "markdown",
      "id": "a6e173e6",
      "metadata": {
        "id": "a6e173e6"
      },
      "source": [
        "Respuesta: B"
      ]
    },
    {
      "cell_type": "markdown",
      "id": "8d766052",
      "metadata": {
        "id": "8d766052"
      },
      "source": [
        "5.  ¿Cuál es el error en este código?"
      ]
    },
    {
      "cell_type": "code",
      "execution_count": null,
      "id": "f0b39223",
      "metadata": {
        "id": "f0b39223"
      },
      "outputs": [],
      "source": [
        "t = (1, 2, 3)\n",
        "t[0]=10"
      ]
    },
    {
      "cell_type": "markdown",
      "id": "210a509e",
      "metadata": {
        "id": "210a509e"
      },
      "source": [
        "Respuesta: C, las tuplas son inmutables\n",
        "\n",
        "6.  ¿Qué resultado produce?"
      ]
    },
    {
      "cell_type": "code",
      "execution_count": null,
      "id": "6326dc87",
      "metadata": {
        "id": "6326dc87"
      },
      "outputs": [],
      "source": [
        "s = {1, 2, 2, 3, 3}\n",
        "print(s)"
      ]
    },
    {
      "cell_type": "markdown",
      "id": "715babdb",
      "metadata": {
        "id": "715babdb"
      },
      "source": [
        "Respuesta: B, {1, 2, 3}\n",
        "\n",
        "7.  ¿Cuál es la salida?\n"
      ]
    },
    {
      "cell_type": "code",
      "execution_count": null,
      "id": "5d1b0854",
      "metadata": {
        "id": "5d1b0854"
      },
      "outputs": [],
      "source": [
        "palabra = \"Mundo\"\n",
        "print(palabra[1:4])\n"
      ]
    },
    {
      "cell_type": "markdown",
      "id": "990f79bd",
      "metadata": {
        "id": "990f79bd"
      },
      "source": [
        "Respuesta: C, \"und\"\n",
        "\n",
        "8.  ¿Qué imprime?"
      ]
    },
    {
      "cell_type": "code",
      "execution_count": null,
      "id": "fbf2ac4d",
      "metadata": {
        "id": "fbf2ac4d"
      },
      "outputs": [],
      "source": [
        "lista = [10, 20, 30]\n",
        "lista.append(40)\n",
        "print(lista)\n"
      ]
    },
    {
      "cell_type": "markdown",
      "id": "c1023ff9",
      "metadata": {
        "id": "c1023ff9"
      },
      "source": [
        "Respuesta: B, [10, 20, 30, 40]\n",
        "\n",
        "9. ¿Qué ocurre?"
      ]
    },
    {
      "cell_type": "code",
      "execution_count": null,
      "id": "f099c3b0",
      "metadata": {
        "id": "f099c3b0"
      },
      "outputs": [],
      "source": [
        "dic = {\"a\": 1, \"b\": 2}\n",
        "print(dic[\"c\"])\n",
        "#Llave C no existe"
      ]
    },
    {
      "cell_type": "markdown",
      "id": "5dc7b584",
      "metadata": {
        "id": "5dc7b584"
      },
      "source": [
        "Respuesta: C, Error\n",
        "\n",
        "10.  Elige la opción correcta para obtener el valor 3 de este diccionario:"
      ]
    },
    {
      "cell_type": "code",
      "execution_count": null,
      "id": "854b2bda",
      "metadata": {
        "id": "854b2bda"
      },
      "outputs": [],
      "source": [
        "d = {\"x\": 1, \"y\": 2, \"z\": 3}\n",
        "d[\"z\"]"
      ]
    },
    {
      "cell_type": "markdown",
      "id": "dac55ac1",
      "metadata": {
        "id": "dac55ac1"
      },
      "source": [
        "Respuesta: D, d[\"z\"]\n",
        "\n",
        "11.  ¿Qué devuelve este código?"
      ]
    },
    {
      "cell_type": "code",
      "execution_count": null,
      "id": "5c6d9d24",
      "metadata": {
        "id": "5c6d9d24"
      },
      "outputs": [],
      "source": [
        "print(type(3.0))"
      ]
    },
    {
      "cell_type": "markdown",
      "id": "14f6d19f",
      "metadata": {
        "id": "14f6d19f"
      },
      "source": [
        "Respuesta:B, float\n",
        "\n",
        "12.  ¿Cuál es el resultado?\n"
      ]
    },
    {
      "cell_type": "code",
      "execution_count": null,
      "id": "f180c5c3",
      "metadata": {
        "id": "f180c5c3"
      },
      "outputs": [],
      "source": [
        "x = [1, 2, 3]\n",
        "y = x\n",
        "y.append(4)\n",
        "print(x)\n"
      ]
    },
    {
      "cell_type": "markdown",
      "id": "f0e3ec82",
      "metadata": {
        "id": "f0e3ec82"
      },
      "source": [
        "Respuesta: B, [1, 2, 3, 4]\n",
        "\n",
        "13.  El valor de resultado será:"
      ]
    },
    {
      "cell_type": "code",
      "execution_count": null,
      "id": "0780f3a5",
      "metadata": {
        "id": "0780f3a5"
      },
      "outputs": [],
      "source": [
        "numeros = [\"10\", \"20\", \"30\"]\n",
        "resultado = \",\".join(numeros)\n",
        "resultado"
      ]
    },
    {
      "cell_type": "markdown",
      "id": "c5c77860",
      "metadata": {
        "id": "c5c77860"
      },
      "source": [
        "Respuesta: B, '10,20,30'\n",
        "\n",
        "14.  Completa el código para convertir un conjunto a lista:"
      ]
    },
    {
      "cell_type": "code",
      "execution_count": null,
      "id": "d3aa1e07",
      "metadata": {
        "id": "d3aa1e07"
      },
      "outputs": [],
      "source": [
        "s = {1, 2, 3}\n",
        "list(s)\n",
        "s"
      ]
    },
    {
      "cell_type": "markdown",
      "id": "77b10dbf",
      "metadata": {
        "id": "77b10dbf"
      },
      "source": [
        "Respuesta: A, list(s)\n",
        "\n",
        "15.  ¿Cuál es la salida?\n"
      ]
    },
    {
      "cell_type": "code",
      "execution_count": null,
      "id": "58bf11cd",
      "metadata": {
        "id": "58bf11cd"
      },
      "outputs": [],
      "source": [
        "cadena = \"Hola\"\n",
        "print(cadena * 3)"
      ]
    },
    {
      "cell_type": "markdown",
      "id": "72bda7bc",
      "metadata": {
        "id": "72bda7bc"
      },
      "source": [
        "Respuesta: B, \"HolaHolaHola\"\n",
        "\n",
        "16.  ¿Qué valor imprime?\n"
      ]
    },
    {
      "cell_type": "code",
      "execution_count": 1,
      "id": "d1d04133",
      "metadata": {
        "colab": {
          "base_uri": "https://localhost:8080/"
        },
        "id": "d1d04133",
        "outputId": "4b97dc30-540c-4fc1-ddb5-3874b71e4df7"
      },
      "outputs": [
        {
          "output_type": "stream",
          "name": "stdout",
          "text": [
            "30\n"
          ]
        }
      ],
      "source": [
        "lista = [10, 20, 30]\n",
        "print(lista[-1])"
      ]
    },
    {
      "cell_type": "markdown",
      "id": "e82908c0",
      "metadata": {
        "id": "e82908c0"
      },
      "source": [
        "Respuesta: C, 30\n",
        "\n",
        "17.  ¿Qué contendrá precios después de ejecutar el código?"
      ]
    },
    {
      "cell_type": "code",
      "execution_count": null,
      "id": "b880ea40",
      "metadata": {
        "id": "b880ea40"
      },
      "outputs": [],
      "source": [
        "precios = [1200, 500, 3400, 800]\n",
        "precios.sort()\n",
        "precios"
      ]
    },
    {
      "cell_type": "markdown",
      "id": "65f84fce",
      "metadata": {
        "id": "65f84fce"
      },
      "source": [
        "Respuesta: A,[500, 800, 1200, 3400]\n",
        "\n",
        "¿Cuál es el error?"
      ]
    },
    {
      "cell_type": "code",
      "execution_count": null,
      "id": "b7a02d02",
      "metadata": {
        "id": "b7a02d02"
      },
      "outputs": [],
      "source": [
        "conjunto = {1, 2, 3}\n",
        "print(conjunto[0])\n",
        "#No tiene un orden\n"
      ]
    },
    {
      "cell_type": "markdown",
      "id": "b1cd3431",
      "metadata": {
        "id": "b1cd3431"
      },
      "source": [
        "Respuesta:A, Los conjuntos no son indexables\n",
        "\n",
        "19.  ¿Qué devuelve?"
      ]
    },
    {
      "cell_type": "code",
      "execution_count": null,
      "id": "8fafd4e8",
      "metadata": {
        "id": "8fafd4e8"
      },
      "outputs": [],
      "source": [
        "len({\"a\": 1, \"b\": 2, \"c\": 3})\n"
      ]
    },
    {
      "cell_type": "markdown",
      "id": "c42ab8b0",
      "metadata": {
        "id": "c42ab8b0"
      },
      "source": [
        "Respuesta:B, 3\n",
        "\n",
        "20.  ¿Qué resultado da?"
      ]
    },
    {
      "cell_type": "code",
      "execution_count": null,
      "id": "2603f58d",
      "metadata": {
        "id": "2603f58d"
      },
      "outputs": [],
      "source": [
        "lista = [1, 2, 3]\n",
        "print(lista * 2)"
      ]
    },
    {
      "cell_type": "markdown",
      "id": "a28f8982",
      "metadata": {
        "id": "a28f8982"
      },
      "source": [
        "Respuesta: A, [1, 2, 3, 1, 2, 3]\n",
        "\n",
        "21.  ¿Qué ocurre?\n"
      ]
    },
    {
      "cell_type": "code",
      "execution_count": null,
      "id": "70250339",
      "metadata": {
        "id": "70250339"
      },
      "outputs": [],
      "source": [
        "d = {\"a\": 1}\n",
        "d[\"a\"] = 100\n",
        "print(d)\n"
      ]
    },
    {
      "cell_type": "markdown",
      "id": "2d44c720",
      "metadata": {
        "id": "2d44c720"
      },
      "source": [
        "Respuesta: B, {\"a\": 100}\n",
        "\n",
        "22.  ¿Qué imprime?\n"
      ]
    },
    {
      "cell_type": "code",
      "execution_count": null,
      "id": "5d522101",
      "metadata": {
        "id": "5d522101"
      },
      "outputs": [],
      "source": [
        "print(\"python\".upper())"
      ]
    },
    {
      "cell_type": "markdown",
      "id": "ee06a3f8",
      "metadata": {
        "id": "ee06a3f8"
      },
      "source": [
        "Respuesta: A, PYTHON\n",
        "\n",
        "\n"
      ]
    },
    {
      "cell_type": "code",
      "execution_count": null,
      "id": "ea43cdc3",
      "metadata": {
        "id": "ea43cdc3"
      },
      "outputs": [],
      "source": [
        "s = {1, 2, 3}\n",
        "s.add(5)\n",
        "s\n"
      ]
    },
    {
      "cell_type": "markdown",
      "id": "c000388e",
      "metadata": {
        "id": "c000388e"
      },
      "source": [
        "Respuesta: A, add\n",
        "\n",
        "24.  ¿Cuál es la salida?\n"
      ]
    },
    {
      "cell_type": "code",
      "execution_count": 2,
      "id": "ac748719",
      "metadata": {
        "colab": {
          "base_uri": "https://localhost:8080/"
        },
        "id": "ac748719",
        "outputId": "a8d81554-2a4e-4061-8e56-5b4bdf53916e"
      },
      "outputs": [
        {
          "output_type": "stream",
          "name": "stdout",
          "text": [
            "True\n"
          ]
        }
      ],
      "source": [
        "d = {\"x\": 10, \"y\": 20}\n",
        "print(\"x\" in d)\n"
      ]
    },
    {
      "cell_type": "markdown",
      "id": "81c90375",
      "metadata": {
        "id": "81c90375"
      },
      "source": [
        "Respuesta: B,True\n",
        "\n",
        "25.  ¿Qué imprime?\n"
      ]
    },
    {
      "cell_type": "code",
      "execution_count": null,
      "id": "9b8cc7ea",
      "metadata": {
        "id": "9b8cc7ea"
      },
      "outputs": [],
      "source": [
        "print([1, 2, 3] == [1, 2, 3])"
      ]
    },
    {
      "cell_type": "markdown",
      "id": "82cbdf6d",
      "metadata": {
        "id": "82cbdf6d"
      },
      "source": [
        "Respuesta: A, True\n",
        "\n",
        "26.  ¿Qué se imprimirá en pantalla?\n"
      ]
    },
    {
      "cell_type": "code",
      "execution_count": 3,
      "id": "3dc3fdb4",
      "metadata": {
        "colab": {
          "base_uri": "https://localhost:8080/"
        },
        "id": "3dc3fdb4",
        "outputId": "54dfb315-56a4-4ce5-9952-cb45c4cf447c"
      },
      "outputs": [
        {
          "output_type": "stream",
          "name": "stdout",
          "text": [
            "0\n",
            "1\n",
            "2\n",
            "3\n",
            "4\n"
          ]
        }
      ],
      "source": [
        "for i in range(5):\n",
        " print(i)\n",
        "#se le agrego\n"
      ]
    },
    {
      "cell_type": "markdown",
      "id": "51237344",
      "metadata": {
        "id": "51237344"
      },
      "source": [
        "Respuesta: C, 0 1 2 3 4\n",
        "\n",
        "27.  ¿Qué ocurre?\n"
      ]
    },
    {
      "cell_type": "code",
      "execution_count": null,
      "id": "eec805be",
      "metadata": {
        "id": "eec805be"
      },
      "outputs": [],
      "source": [
        "s = {1, 2, 3}\n",
        "s.remove(4)\n",
        "#No existe el 4, remove 4"
      ]
    },
    {
      "cell_type": "markdown",
      "id": "c0440836",
      "metadata": {
        "id": "c0440836"
      },
      "source": [
        "Respuesta:C, Lanza un error\n",
        "\n",
        "28.  ¿Qué contendrá la variable paises?\n"
      ]
    },
    {
      "cell_type": "code",
      "execution_count": null,
      "id": "46dadd9a",
      "metadata": {
        "id": "46dadd9a"
      },
      "outputs": [],
      "source": [
        "texto = \"Colombia México Perú Chile\"\n",
        "paises = texto.split()\n",
        "paises"
      ]
    },
    {
      "cell_type": "markdown",
      "id": "b26d1587",
      "metadata": {
        "id": "b26d1587"
      },
      "source": [
        "Respuesta: B, [\"Colombia\", \"México\", \"Perú\", \"Chile\"]\n",
        "\n",
        "29.  ¿Qué resultado produce valores?"
      ]
    },
    {
      "cell_type": "code",
      "execution_count": null,
      "id": "5aa18318",
      "metadata": {
        "id": "5aa18318"
      },
      "outputs": [],
      "source": [
        "ventas = \"1000;2500;3200;4500\"\n",
        "valores = ventas.split(\";\")\n",
        "valores\n"
      ]
    },
    {
      "cell_type": "markdown",
      "id": "63926ad9",
      "metadata": {
        "id": "63926ad9"
      },
      "source": [
        "Respuesta: A,[\"1000\", \"2500\", \"3200\", \"4500\"]\n",
        "\n",
        "31.  ¿Qué contendrá empresas después de ejecutar el código?"
      ]
    },
    {
      "cell_type": "code",
      "execution_count": null,
      "id": "8a0dc187",
      "metadata": {
        "id": "8a0dc187"
      },
      "outputs": [],
      "source": [
        "empresas = [\"Amazon\", \"Google\", \"Microsoft\", \"Apple\"]\n",
        "empresas.sort()\n",
        "print(empresas)\n"
      ]
    },
    {
      "cell_type": "markdown",
      "id": "05cd16f7",
      "metadata": {
        "id": "05cd16f7"
      },
      "source": [
        "Ninguna es correcta, es ['Amazon', 'Apple', 'Google', 'Microsoft']\n",
        "pero la mas cercana es A\n",
        "\n",
        "32.  ¿Qué contendrá la lista numeros?\n"
      ]
    },
    {
      "cell_type": "code",
      "execution_count": null,
      "id": "6e8cfa27",
      "metadata": {
        "id": "6e8cfa27"
      },
      "outputs": [],
      "source": [
        "numeros = list(range(2, 10, 2))\n",
        "numeros"
      ]
    },
    {
      "cell_type": "markdown",
      "id": "94dcfd8a",
      "metadata": {
        "id": "94dcfd8a"
      },
      "source": [
        "Respuesta: A, [2, 4, 6, 8]\n",
        "\n"
      ]
    }
  ],
  "metadata": {
    "language_info": {
      "name": "python"
    },
    "colab": {
      "provenance": [],
      "include_colab_link": true
    },
    "kernelspec": {
      "name": "python3",
      "display_name": "Python 3"
    }
  },
  "nbformat": 4,
  "nbformat_minor": 5
}