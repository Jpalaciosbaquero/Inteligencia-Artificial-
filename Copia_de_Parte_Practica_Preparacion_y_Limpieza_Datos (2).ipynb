{
  "cells": [
    {
      "cell_type": "markdown",
      "source": [
        "# **Inteligencia Artificial con Aplicaciones en Economía I**\n",
        "\n",
        "- 👩‍🏫 **Profesora:** [Lina María Castro](https://www.linkedin.com/in/lina-maria-castro)  \n",
        "- 📧 **Email:** [lmcastroco@gmail.com](mailto:lmcastroco@gmail.com)  \n",
        "- 🎓 **Universidad:** Universidad Externado de Colombia - Facultad de Economía"
      ],
      "metadata": {
        "id": "UxY55o_PQ7jE"
      }
    },
    {
      "cell_type": "markdown",
      "source": [
        "# **Parte práctica parcial: Preparación y limpieza de datos**🧹"
      ],
      "metadata": {
        "id": "fgMCFLbQBIu0"
      }
    },
    {
      "cell_type": "markdown",
      "source": [
        "**IMPORTANTE**: Guarda una copia de este notebook en tu Google Drive o computador."
      ],
      "metadata": {
        "id": "0dQjQRRI-Jwh"
      }
    },
    {
      "cell_type": "markdown",
      "source": [
        "**Nombre estudiante:**"
      ],
      "metadata": {
        "id": "NyfFoG84-DmF"
      }
    },
    {
      "cell_type": "markdown",
      "source": [
        "**Forma de entrega**\n",
        "\n",
        "Jupyter Notebook publicado en su cuenta de Github con el nombre “Practica_limpieza_nombre_apellido_estudiante.ipynb”. Máximo a las 9 a.m., debes enviar link del notebook al correo lina.castro6@uexternado.edu.co, de lo contrario, no será tenido en cuenta.\n",
        "\n",
        "**Instrucciones Generales**\n",
        "\n",
        "- Puedes utilizar tus apuntes y notebooks y entrar al repositorio del curso. Sin embargo, **NO puedes utilizar IA para desarrollar tus respuestas**. **En caso de descubrir que estás usando IA** para el desarrollo de los ejercicios, **tu nota** de este segundo parcial **será cero**.\n",
        "- Completa el código en las celdas marcadas con `### TU CÓDIGO AQUÍ ###`. Puedes añadir más celdas si lo requieres.\n",
        "- Después de cada punto, ejecuta la celda de `assert` que se proporciona. Si no aparece ningún error, ¡tu respuesta es correcta!\n",
        "- No modifiques las celdas de `assert` ni las celdas de Markdown."
      ],
      "metadata": {
        "id": "KcbzsUiz025j"
      }
    },
    {
      "cell_type": "markdown",
      "metadata": {
        "id": "002f12a4"
      },
      "source": [
        "**Objetivos de Aprendizaje**\n",
        "\n",
        "1. **Aplicar técnicas de importación y consolidación de múltiples fuentes de datos** utilizando la librería `pandas`.\n",
        "2.  **Ejecutar un proceso completo de limpieza de datos**, incluyendo el manejo de valores nulos, duplicados y la estandarización de tipos de datos.\n",
        "3.  **Preparar un conjunto de datos real (GEIH del DANE)** para un análisis económico, sentando las bases para futuros modelos de machine learning."
      ]
    },
    {
      "cell_type": "markdown",
      "source": [
        "# Ejercicio 1: Importar y unir datos (20%)"
      ],
      "metadata": {
        "id": "kcMQs_MlILnO"
      }
    },
    {
      "cell_type": "markdown",
      "source": [
        "El DANE publica los microdatos de la GEIH mensualmente. Tu primera tarea es cargar los datos de los primeros seis meses de 2025 y armar una sola base."
      ],
      "metadata": {
        "id": "beUGc16pTUmd"
      }
    },
    {
      "cell_type": "markdown",
      "source": [
        "**Los archivos necesarios los encuentras en el repositorio del curso, carpeta \"datasets\", carpeta \"geih_2025\".**"
      ],
      "metadata": {
        "id": "VfgbpHxErNbB"
      }
    },
    {
      "cell_type": "markdown",
      "source": [
        "1. Usa un ciclo \"for\" para abrir los archivos CSV, ten en cuenta que estas bases usan como separador \";\" y encoding='latin1'. La variable 'DPTO' y 'RAMA4D_R4' debes cargarlas como string."
      ],
      "metadata": {
        "id": "uFLrypnkZinJ"
      }
    },
    {
      "cell_type": "code",
      "source": [
        "import pandas as pd\n",
        "import os\n",
        "\n",
        "files = ['/content/df_ene.csv', '/content/df_feb.csv', '/content/df_mar.csv', '/content/df_abr.csv', '/content/df_may.csv',\n",
        "         '/content/df_jun.csv']\n",
        "\n",
        "for file in files:\n",
        "    df = pd.read_csv(file,sep=';',encoding='latin1',dtype={'DPTO': str, 'RAMA4D_R4': str})"
      ],
      "metadata": {
        "colab": {
          "base_uri": "https://localhost:8080/"
        },
        "id": "XpWu7Uje0DN-",
        "outputId": "56b39059-566c-4763-957e-ebb417077137"
      },
      "execution_count": 192,
      "outputs": [
        {
          "output_type": "stream",
          "name": "stderr",
          "text": [
            "/tmp/ipython-input-1848172055.py:9: DtypeWarning: Columns (71,132,176,185,190,201) have mixed types. Specify dtype option on import or set low_memory=False.\n",
            "  df = pd.read_csv(file,sep=';',encoding='latin1',dtype={'DPTO': str, 'RAMA4D_R4': str})\n",
            "/tmp/ipython-input-1848172055.py:9: DtypeWarning: Columns (71,132,176,188,190,201) have mixed types. Specify dtype option on import or set low_memory=False.\n",
            "  df = pd.read_csv(file,sep=';',encoding='latin1',dtype={'DPTO': str, 'RAMA4D_R4': str})\n",
            "/tmp/ipython-input-1848172055.py:9: DtypeWarning: Columns (71,132,176,185,188,190,201) have mixed types. Specify dtype option on import or set low_memory=False.\n",
            "  df = pd.read_csv(file,sep=';',encoding='latin1',dtype={'DPTO': str, 'RAMA4D_R4': str})\n",
            "/tmp/ipython-input-1848172055.py:9: DtypeWarning: Columns (71,132,176,188,190,201) have mixed types. Specify dtype option on import or set low_memory=False.\n",
            "  df = pd.read_csv(file,sep=';',encoding='latin1',dtype={'DPTO': str, 'RAMA4D_R4': str})\n",
            "/tmp/ipython-input-1848172055.py:9: DtypeWarning: Columns (71,132,176,188,190,201) have mixed types. Specify dtype option on import or set low_memory=False.\n",
            "  df = pd.read_csv(file,sep=';',encoding='latin1',dtype={'DPTO': str, 'RAMA4D_R4': str})\n",
            "/tmp/ipython-input-1848172055.py:9: DtypeWarning: Columns (71,132,176,188,190,201) have mixed types. Specify dtype option on import or set low_memory=False.\n",
            "  df = pd.read_csv(file,sep=';',encoding='latin1',dtype={'DPTO': str, 'RAMA4D_R4': str})\n"
          ]
        }
      ]
    },
    {
      "cell_type": "markdown",
      "source": [
        "2. Une todos los dataframes para obtener una base de la GEIH con toda la información de enero a junio de 2025. El nuevo dataframe debe llamarse `df_geih`"
      ],
      "metadata": {
        "id": "V4mnzdvxZknq"
      }
    },
    {
      "cell_type": "code",
      "source": [
        "df_geih = pd.concat(dataframes, ignore_index=True)"
      ],
      "metadata": {
        "id": "nUC83l_JZtNE"
      },
      "execution_count": 193,
      "outputs": []
    },
    {
      "cell_type": "markdown",
      "source": [
        "3. Reinicia el índice de `df_geih`. Asegúrate de que el índice antiguo no se añada como una nueva columna."
      ],
      "metadata": {
        "id": "2KfW20d-ZrNV"
      }
    },
    {
      "cell_type": "code",
      "source": [
        "df_geih = df_geih.reset_index(drop=True)"
      ],
      "metadata": {
        "id": "wqFvg5vCZtyk"
      },
      "execution_count": 194,
      "outputs": []
    },
    {
      "cell_type": "code",
      "source": [
        "# Celda de verificación (no modificar)\n",
        "assert df_geih.shape[0] == 408423, f\"Error en las filas. Se esperaban 408423, pero se encontraron {df_geih.shape[0]}.\"\n",
        "assert df_geih.shape[1] == 245, f\"Error en las columnas. Se esperaban 245, pero se encontraron {df_geih.shape[1]}.\"\n",
        "print(\"¡Las dimensiones del DataFrame son correctas! ✅\")\n",
        "assert 'index' not in df_geih.columns, \"El índice antiguo no debe ser una columna.\"\n",
        "assert df_geih.index.is_unique, \"El índice debe ser único después de reiniciarlo.\"\n",
        "print(f\"¡Punto 1 completado con éxito! ✅ El DataFrame consolidado tiene {df_geih.shape[0]} filas y {df_geih.shape[1]} columnas.\")"
      ],
      "metadata": {
        "id": "4SKESZ9HI9Sm",
        "colab": {
          "base_uri": "https://localhost:8080/"
        },
        "outputId": "aa7ff79b-1789-4771-ae90-c0df2e642241"
      },
      "execution_count": 195,
      "outputs": [
        {
          "output_type": "stream",
          "name": "stdout",
          "text": [
            "¡Las dimensiones del DataFrame son correctas! ✅\n",
            "¡Punto 1 completado con éxito! ✅ El DataFrame consolidado tiene 408423 filas y 245 columnas.\n"
          ]
        }
      ]
    },
    {
      "cell_type": "markdown",
      "source": [
        "# Ejercicio 2:  Seleccionar y renombrar columnas (5%)"
      ],
      "metadata": {
        "id": "vohgsAt-JIUY"
      }
    },
    {
      "cell_type": "markdown",
      "source": [
        "La GEIH contiene cientos de variables. Para nuestro análisis del mercado laboral, nos enfocaremos en un subconjunto.\n",
        "\n",
        "Adicionalmente, los nombres de las columnas en la GEIH son códigos. Para hacer el análisis más intuitivo, vamos a renombrarlas."
      ],
      "metadata": {
        "id": "d_nfXxqyJKXK"
      }
    },
    {
      "cell_type": "markdown",
      "source": [
        "1. Crea un nuevo DataFrame llamado `df_empleo` que contenga únicamente las columnas que están en la lista `columnas_interes`."
      ],
      "metadata": {
        "id": "kJKqoBs6pwp4"
      }
    },
    {
      "cell_type": "code",
      "source": [
        "columnas_interes = ['DIRECTORIO', 'SECUENCIA_P', 'ORDEN', 'MES', 'CLASE', 'DPTO', 'FEX_C18', 'PT', 'P3271', 'P6040', 'P6080', 'P3043', 'OCI', 'P6430', 'RAMA4D_R4', 'INGLABO']"
      ],
      "metadata": {
        "id": "1Dfq5ExPZ1e-"
      },
      "execution_count": 196,
      "outputs": []
    },
    {
      "cell_type": "code",
      "source": [
        "df_empleo = df_geih[columnas_interes]"
      ],
      "metadata": {
        "id": "asDiSo1S3jF5"
      },
      "execution_count": 197,
      "outputs": []
    },
    {
      "cell_type": "code",
      "source": [
        "# Celda de verificación (no modificar)\n",
        "assert len(df_empleo.columns) == 16, \"El número de columnas es incorrecto.\"\n",
        "assert all(col in df_empleo.columns for col in columnas_interes), \"Faltan columnas o los nombres son incorrectos.\"\n",
        "print(\"¡Selección de columnas completada con éxito! ✅\")\n",
        "print(\"Dimensiones del nuevo DataFrame:\", df_empleo.shape)"
      ],
      "metadata": {
        "id": "vp0lD3F6JXRR",
        "colab": {
          "base_uri": "https://localhost:8080/"
        },
        "outputId": "af2409da-8615-474e-8ece-c0103c287b80"
      },
      "execution_count": 198,
      "outputs": [
        {
          "output_type": "stream",
          "name": "stdout",
          "text": [
            "¡Selección de columnas completada con éxito! ✅\n",
            "Dimensiones del nuevo DataFrame: (408423, 16)\n"
          ]
        }
      ]
    },
    {
      "cell_type": "markdown",
      "source": [
        "2. Renombra las columnas del DataFrame `df_empleo` utilizando el diccionario `mapa_nombres`."
      ],
      "metadata": {
        "id": "Re7IRRu7pzyM"
      }
    },
    {
      "cell_type": "code",
      "source": [
        "mapa_nombres = {\n",
        "'DIRECTORIO': 'id_vivienda',\n",
        "'SECUENCIA_P': 'id_hogar',\n",
        "'ORDEN': 'id_persona',\n",
        "'MES': 'mes',\n",
        "'CLASE': 'clase',\n",
        "'DPTO': 'departamento',\n",
        "'FEX_C18': 'factor_expansion',\n",
        "'PT': 'poblacion_total',\n",
        "'P3271': 'sexo',\n",
        "'P6040': 'edad',\n",
        "'P6080': 'grupo_etnico',\n",
        "'P3043': 'nivel_educativo',\n",
        "'OCI': 'ocupados',\n",
        "'P6430': 'categoria_ocupacional',\n",
        "'RAMA4D_R4': 'cod_ciiu',\n",
        "'INGLABO': 'ingreso_laboral'}"
      ],
      "metadata": {
        "id": "Jrc9ps_eaonH"
      },
      "execution_count": 199,
      "outputs": []
    },
    {
      "cell_type": "code",
      "source": [
        "df_empleo = df_empleo.rename(columns=mapa_nombres)"
      ],
      "metadata": {
        "id": "zwFmLQHdbCIK"
      },
      "execution_count": 200,
      "outputs": []
    },
    {
      "cell_type": "code",
      "source": [
        "# Celda de verificación (no modificar)\n",
        "nombres_nuevos_esperados = list(mapa_nombres.values())\n",
        "condicion_exitosa = all(col in df_empleo.columns for col in nombres_nuevos_esperados)\n",
        "assert condicion_exitosa, \"No todas las columnas esperadas se encuentran en el DataFrame. Revisa el diccionario o la operación de renombrado.\"\n",
        "print(\"¡Verificación exitosa! Todas las columnas fueron renombradas correctamente. ✅\")\n",
        "print(\"¡Punto 2 completado con éxito! ✅\")"
      ],
      "metadata": {
        "id": "y00VD_7vJnZp",
        "colab": {
          "base_uri": "https://localhost:8080/"
        },
        "outputId": "203091d1-0c44-48a8-a060-7a484363a1a1"
      },
      "execution_count": 201,
      "outputs": [
        {
          "output_type": "stream",
          "name": "stdout",
          "text": [
            "¡Verificación exitosa! Todas las columnas fueron renombradas correctamente. ✅\n",
            "¡Punto 2 completado con éxito! ✅\n"
          ]
        }
      ]
    },
    {
      "cell_type": "markdown",
      "source": [
        "# Ejercicio 3: Revisión de duplicados (5%)"
      ],
      "metadata": {
        "id": "mDK3ntrqJpGb"
      }
    },
    {
      "cell_type": "markdown",
      "source": [
        "Un paso crucial en la limpieza es asegurar que no haya observaciones duplicadas que puedan sesgar nuestro análisis."
      ],
      "metadata": {
        "id": "tkSSPWkKJrOL"
      }
    },
    {
      "cell_type": "markdown",
      "source": [
        "1. Verifica si hay filas duplicadas en `df_empleo`."
      ],
      "metadata": {
        "id": "rGdi4aqTr_pF"
      }
    },
    {
      "cell_type": "code",
      "source": [
        "if df_empleo.duplicated().any():\n",
        "    print(\"Sí, existen filas duplicadas en df_empleo.\")\n",
        "else:\n",
        "    print(\"No existen filas duplicadas en df_empleo.\")"
      ],
      "metadata": {
        "id": "30Rj_lGmJwBq",
        "colab": {
          "base_uri": "https://localhost:8080/"
        },
        "outputId": "c8f816bc-46b1-4e0e-918b-98d5c216e368"
      },
      "execution_count": 202,
      "outputs": [
        {
          "output_type": "stream",
          "name": "stdout",
          "text": [
            "No existen filas duplicadas en df_empleo.\n"
          ]
        }
      ]
    },
    {
      "cell_type": "markdown",
      "source": [
        "2. Cuenta cuántas filas duplicadas existen."
      ],
      "metadata": {
        "id": "z0pbTsshsD7e"
      }
    },
    {
      "cell_type": "code",
      "source": [
        "num_dupli = df_empleo.duplicated().sum()\n",
        "print(f\"Número de filas duplicadas en df_empleo: {num_duplicates}\")"
      ],
      "metadata": {
        "id": "O4nEAlp-sJ9b",
        "colab": {
          "base_uri": "https://localhost:8080/"
        },
        "outputId": "dc704908-1b2e-47bd-fd79-55efcb6a1316"
      },
      "execution_count": 203,
      "outputs": [
        {
          "output_type": "stream",
          "name": "stdout",
          "text": [
            "Número de filas duplicadas en df_empleo: 0\n"
          ]
        }
      ]
    },
    {
      "cell_type": "markdown",
      "source": [
        "3. Elimina las filas duplicadas, si las hay."
      ],
      "metadata": {
        "id": "e4Nq586FsGdL"
      }
    },
    {
      "cell_type": "code",
      "source": [
        "df_empleo = df_empleo.drop_duplicates()"
      ],
      "metadata": {
        "id": "U5JVNZIcsKhV"
      },
      "execution_count": 204,
      "outputs": []
    },
    {
      "cell_type": "markdown",
      "source": [
        "4. Verifica si hay filas duplicadas específicamente en las columnas 'id_vivienda', 'id_hogar', 'id_persona'."
      ],
      "metadata": {
        "id": "rYgKw_2mqLMY"
      }
    },
    {
      "cell_type": "code",
      "source": [
        "filas_duplicadas_subconjunto = df_empleo.duplicated(subset=['id_vivienda', 'id_hogar', 'id_persona'])\n",
        "num_duplicados_subconjunto = filas_duplicadas_subconjunto.sum()\n"
      ],
      "metadata": {
        "id": "YLE3lJfwsLar"
      },
      "execution_count": 237,
      "outputs": []
    },
    {
      "cell_type": "code",
      "source": [
        "# Celda de verificación (no modificar)\n",
        "assert df_empleo.duplicated().sum() == 0, \"Aún existen filas duplicadas.\"\n",
        "print(\"¡Punto 3 completado con éxito! ✅\")"
      ],
      "metadata": {
        "id": "FDOUnz2tJz6C",
        "colab": {
          "base_uri": "https://localhost:8080/"
        },
        "outputId": "486047bc-4c81-4eeb-e621-b06e522032e8"
      },
      "execution_count": 238,
      "outputs": [
        {
          "output_type": "stream",
          "name": "stdout",
          "text": [
            "¡Punto 3 completado con éxito! ✅\n"
          ]
        }
      ]
    },
    {
      "cell_type": "markdown",
      "source": [
        "# Ejercicio 4: Valores faltantes (5%)"
      ],
      "metadata": {
        "id": "qKsEeYQ1J75s"
      }
    },
    {
      "cell_type": "markdown",
      "source": [
        "Los datos del mundo real raramente están completos. Aquí, trataremos los valores faltantes en la columna de ingresos.\n"
      ],
      "metadata": {
        "id": "-LRknAhpJ9vb"
      }
    },
    {
      "cell_type": "markdown",
      "source": [
        "1. Calcula el número de valores nulos (`NaN`) en la columna `ingreso_laboral` **antes** de cualquier modificación."
      ],
      "metadata": {
        "id": "ZbnH8-NtsXIK"
      }
    },
    {
      "cell_type": "code",
      "source": [
        "nulos_ingreso_laboral_antes = df_empleo['ingreso_laboral'].isnull().sum()\n",
        "print(f\"Número de valores nulos en 'ingreso_laboral' antes de la modificación: {nulos_ingreso_laboral_antes}\")"
      ],
      "metadata": {
        "colab": {
          "base_uri": "https://localhost:8080/"
        },
        "id": "uj2Gmk1m7E0p",
        "outputId": "79c416a0-7845-42fe-e5d9-b7f322e0ac04"
      },
      "execution_count": 207,
      "outputs": [
        {
          "output_type": "stream",
          "name": "stdout",
          "text": [
            "Número de valores nulos en 'ingreso_laboral' antes de la modificación: 236576\n"
          ]
        }
      ]
    },
    {
      "cell_type": "markdown",
      "source": [
        "2. En la GEIH, un ingreso faltante a menudo significa que la persona no reportó ingresos o no aplica (ej. no trabaja). Una estrategia común es imputar estos valores con `0`. Rellena los valores `NaN` en la columna `ingreso_laboral` con `0`."
      ],
      "metadata": {
        "id": "pdR4mVkRsa8x"
      }
    },
    {
      "cell_type": "code",
      "source": [
        "df_empleo['ingreso_laboral'] = df_empleo['ingreso_laboral'].fillna(0)"
      ],
      "metadata": {
        "id": "ZPa-0393skWB"
      },
      "execution_count": 208,
      "outputs": []
    },
    {
      "cell_type": "code",
      "source": [
        "# Celda de verificación (no modificar)\n",
        "assert df_empleo['ingreso_laboral'].isnull().sum() == 0, \"La columna 'ingreso_laboral' todavía tiene valores nulos.\"\n",
        "print(\"¡Punto 4 completado con éxito! ✅\")"
      ],
      "metadata": {
        "id": "PvmNifUxKKCz",
        "colab": {
          "base_uri": "https://localhost:8080/"
        },
        "outputId": "0212e908-44f2-44b9-858c-a8e0da8d19e1"
      },
      "execution_count": 209,
      "outputs": [
        {
          "output_type": "stream",
          "name": "stdout",
          "text": [
            "¡Punto 4 completado con éxito! ✅\n"
          ]
        }
      ]
    },
    {
      "cell_type": "markdown",
      "source": [
        "# Ejercicio 5: Decodificar variables (20%)\n",
        "\n"
      ],
      "metadata": {
        "id": "n1H51YH_KgH0"
      }
    },
    {
      "cell_type": "markdown",
      "source": [
        "Las variables categóricas a menudo necesitan ser \"traducidas\" para hacerlas más entendibles para el análisis."
      ],
      "metadata": {
        "id": "Bn2WHfpsKiHU"
      }
    },
    {
      "cell_type": "markdown",
      "source": [
        "1. Usa los siguientes diccionarios para reemplazar los códigos numéricos por etiquetas de texto en las siguientes columnas: 'clase', 'sexo', 'grupo_etnico', 'nivel_educativo' y 'categoria_ocupacional'. Muestra los conteos de las nuevas categorías usando `.value_counts()` para verificar el cambio en cada una de las columnas."
      ],
      "metadata": {
        "id": "Y4ABVfkitFmV"
      }
    },
    {
      "cell_type": "code",
      "source": [
        "dic_clase = {1: 'Cabeceras', 2: 'Centros poblados y rural disperso'}\n",
        "dic_sexo = {1: 'Hombre', 2: 'Mujer'}\n",
        "dic_etnico = {1: 'Indígena', 2: 'Gitano (Rom)', 3: 'Raizal del archipiélago', 4: 'Palenquero',\n",
        "              5: 'Negro, mulato (afrodescendiente)', 6: 'Ninguno de los anteriores'}\n",
        "dic_nivel_educativo = {1: 'Ninguno', 2: 'Educación media', 3: 'Educación media',\n",
        "                       4: 'Educación media', 5: 'Técnica profesional', 6: 'Tecnológica',\n",
        "                       7: 'Universitaria', 8: 'Especialización', 9: 'Maestría',\n",
        "                       10: 'Doctorado', 99: 'No sabe, no informa'}\n",
        "dic_cat_ocu = {1: 'Asalariado', 2: 'Asalariado', 3: 'Asalariado',\n",
        "               8: 'Asalariado', 4: 'Independiente', 5: 'Independiente',\n",
        "               9: 'Independiente', 6: 'Trabajador sin remuneración',\n",
        "               7: 'Trabajador sin remuneración'}"
      ],
      "metadata": {
        "id": "NCmxDLKZtLis"
      },
      "execution_count": 210,
      "outputs": []
    },
    {
      "cell_type": "code",
      "source": [
        "df_empleo['clase'] = df_empleo['clase'].fillna(1).map(dic_clase)\n",
        "df_empleo['sexo'] = df_empleo['sexo'].fillna(1).map(dic_sexo)\n",
        "df_empleo['grupo_etnico'] = df_empleo['grupo_etnico'].fillna(1).map(dic_etnico)\n",
        "df_empleo['nivel_educativo'] = pd.to_numeric(df_empleo['nivel_educativo'], errors='coerce').fillna(1).map(dic_nivel_educativo)\n",
        "df_empleo['categoria_ocupacional'] = df_empleo['categoria_ocupacional'].fillna(1).map(dic_cat_ocu)\n"
      ],
      "metadata": {
        "id": "TrHuaJBFKtRG"
      },
      "execution_count": 211,
      "outputs": []
    },
    {
      "cell_type": "code",
      "source": [
        "# Celda de verificación (no modificar)\n",
        "mapeos_a_verificar = {\n",
        "    'clase': dic_clase,\n",
        "    'sexo': dic_sexo,\n",
        "    'grupo_etnico': dic_etnico,\n",
        "    'nivel_educativo': dic_nivel_educativo,\n",
        "    'categoria_ocupacional': dic_cat_ocu\n",
        "}\n",
        "for columna, diccionario in mapeos_a_verificar.items():\n",
        "    es_numerica = pd.api.types.is_numeric_dtype(df_empleo[columna])\n",
        "    assert not es_numerica, f\"La columna '{columna}' todavía tiene un tipo de dato numérico. El reemplazo falló.\"\n",
        "    valor_texto_ejemplo = list(diccionario.values())[0]\n",
        "    categorias_unicas = df_empleo[columna].unique()\n",
        "    assert valor_texto_ejemplo in categorias_unicas, f\"No se encontró el valor '{valor_texto_ejemplo}' en la columna '{columna}'.\"\n",
        "    valor_numerico_ejemplo = list(diccionario.keys())[0]\n",
        "    assert valor_numerico_ejemplo not in categorias_unicas, f\"El código numérico '{valor_numerico_ejemplo}' todavía existe en la columna '{columna}'.\"\n",
        "print(\"¡Verificación completada con éxito! ✅ Todas las columnas categóricas fueron transformadas correctamente.\")"
      ],
      "metadata": {
        "id": "5-AKpA0ECgDV",
        "colab": {
          "base_uri": "https://localhost:8080/"
        },
        "outputId": "57118da2-69eb-4c73-85b3-4ee7d60fd8ba"
      },
      "execution_count": 212,
      "outputs": [
        {
          "output_type": "stream",
          "name": "stdout",
          "text": [
            "¡Verificación completada con éxito! ✅ Todas las columnas categóricas fueron transformadas correctamente.\n"
          ]
        }
      ]
    },
    {
      "cell_type": "markdown",
      "source": [
        "2. Utiliza el archivo \"2025-01-14 Correlativa CIIU Rev4.xlsx\", hoja 'CIIU 2022', para agregar al df_empleo las descripciones de los códigos CIIU a 4 dígitos. En df_empleo la columna con los códigos CIIU se llama 'cod_ciiu'. Si se agregan nuevas columnas al dataframe, distintas a la descripción del CIIU, debes borrarlas."
      ],
      "metadata": {
        "id": "WiqtdzC4tBsS"
      }
    },
    {
      "cell_type": "code",
      "source": [
        "ruta_archivo_ciiu = '/content/2025-01-14 Correlativa CIIU Rev4.xlsx'\n",
        "\n",
        "df_ciiu = pd.read_excel(ruta_archivo_ciiu, sheet_name='CIIU 2022')\n",
        "\n",
        "df_ciiu['RAMA4D_R4'] = df_ciiu['RAMA4D_R4'].astype(str)\n",
        "\n",
        "df_empleo = pd.merge(df_empleo, df_ciiu[['RAMA4D_R4', 'DESCRIPCION_CIIU']],\n",
        "                     left_on='cod_ciiu', right_on='RAMA4D_R4',\n",
        "                     how='left')\n",
        "\n",
        "df_empleo = df_empleo.drop(columns=['RAMA4D_R4'])"
      ],
      "metadata": {
        "id": "6_oWG6QFwT78"
      },
      "execution_count": 213,
      "outputs": []
    },
    {
      "cell_type": "code",
      "source": [
        "# Celda de verificación (no modificar)\n",
        "assert 'DESCRIPCION_CIIU' in df_empleo.columns, \\\n",
        "    f\"La columna '{'DESCRIPCION_CIIU'}' no se encontró. Revisa el nombre que le diste a la nueva columna.\"\n",
        "assert df_empleo['DESCRIPCION_CIIU'].notna().sum() > 0, \\\n",
        "    f\"La columna '{'DESCRIPCION_CIIU'}' está completamente vacía. Verifica las llaves del merge.\"\n",
        "print(\"✅ Verificación del merge exitosa.\")"
      ],
      "metadata": {
        "id": "C9WIAoacD0aW",
        "colab": {
          "base_uri": "https://localhost:8080/"
        },
        "outputId": "0edaa1e8-f2b2-4f59-d81e-8c87c89e8f4b"
      },
      "execution_count": 214,
      "outputs": [
        {
          "output_type": "stream",
          "name": "stdout",
          "text": [
            "✅ Verificación del merge exitosa.\n"
          ]
        }
      ]
    },
    {
      "cell_type": "markdown",
      "source": [
        "3. Utiliza el archivo \"2025-01-14 Divipola.xlsx\", hoja 'Departamentos', para agregar al df_empleo los nombres de los departamentos. En df_empleo la columna con los códigos Divipola de los departamentos se llama 'departamento'. Si se agregan nuevas columnas al dataframe, distintas al nombre del departamento, debes borrarlas."
      ],
      "metadata": {
        "id": "VyjpGIlWu-3r"
      }
    },
    {
      "cell_type": "code",
      "source": [
        "ruta_divipola = '/content/2025-01-14 DIVIPOLA.xlsx'\n",
        "\n",
        "df_divipola = pd.read_excel(ruta_divipola, sheet_name='Departamentos')\n",
        "\n",
        "fila_encabezado = df_divipola.iloc[8]\n",
        "df_divipola = df_divipola[9:].copy()\n",
        "df_divipola.columns = fila_encabezado\n",
        "\n",
        "df_divipola = df_divipola.reset_index(drop=True)\n",
        "\n",
        "df_divipola.columns = df_divipola.columns.astype(str).str.strip()\n",
        "\n",
        "df_subset_divipola = df_divipola.iloc[:, [0, 1]].copy()\n",
        "df_subset_divipola.columns = ['Código', 'Nombre']\n",
        "\n",
        "df_subset_divipola['Código'] = df_subset_divipola['Código'].astype(str)\n",
        "df_empleo['departamento'] = df_empleo['departamento'].astype(str)\n",
        "\n",
        "columnas_a_eliminar_nombre = [col for col in df_empleo.columns if col.startswith('Nombre')]\n",
        "if columnas_a_eliminar_nombre:\n",
        "    df_empleo = df_empleo.drop(columns=columnas_a_eliminar_nombre)\n",
        "\n",
        "\n",
        "df_empleo = pd.merge(df_empleo, df_subset_divipola[['Código', 'Nombre']],\n",
        "                     left_on='departamento', right_on='Código',\n",
        "                     how='left')\n",
        "\n",
        "df_empleo = df_empleo.drop(columns=['Código'])\n",
        "\n",
        "columnas_a_eliminar_ciiu = [col for col in df_empleo.columns if col.startswith('DESCRIPCION_CIIU') and col != 'DESCRIPCION_CIIU']\n",
        "if columnas_a_eliminar_ciiu:\n",
        "    df_empleo = df_empleo.drop(columns=columnas_a_eliminar_ciiu)\n",
        "\n",
        "\n",
        "print(\"Se agregaron los nombres de los departamentos al dataframe y se eliminaron columnas redundantes.\")\n",
        "\n",
        "display(df_empleo.head())"
      ],
      "metadata": {
        "id": "EHmvrKNGwUfs",
        "colab": {
          "base_uri": "https://localhost:8080/",
          "height": 504
        },
        "outputId": "e3fc85c0-a2df-4fe6-fbf5-6794f2400a25"
      },
      "execution_count": 215,
      "outputs": [
        {
          "output_type": "stream",
          "name": "stdout",
          "text": [
            "Se agregaron los nombres de los departamentos al dataframe y se eliminaron columnas redundantes.\n"
          ]
        },
        {
          "output_type": "display_data",
          "data": {
            "text/plain": [
              "   id_vivienda  id_hogar  id_persona  mes                              clase  \\\n",
              "0      8086872         1           1    1  Centros poblados y rural disperso   \n",
              "1      8086874         1           1    1  Centros poblados y rural disperso   \n",
              "2      8086874         1           2    1  Centros poblados y rural disperso   \n",
              "3      8086874         1           3    1  Centros poblados y rural disperso   \n",
              "4      8086875         1           1    1  Centros poblados y rural disperso   \n",
              "\n",
              "  departamento  factor_expansion  poblacion_total    sexo  edad  \\\n",
              "0           13       2184.752283                1   Mujer    54   \n",
              "1           13       1208.490211                1   Mujer    79   \n",
              "2           13       1208.490211                1  Hombre    60   \n",
              "3           13       1208.490211                1  Hombre    59   \n",
              "4           13       2104.113905                1   Mujer    80   \n",
              "\n",
              "                       grupo_etnico nivel_educativo  ocupados  \\\n",
              "0         Ninguno de los anteriores         Ninguno       1.0   \n",
              "1  Negro, mulato (afrodescendiente)         Ninguno       NaN   \n",
              "2  Negro, mulato (afrodescendiente)         Ninguno       1.0   \n",
              "3  Negro, mulato (afrodescendiente)         Ninguno       1.0   \n",
              "4  Negro, mulato (afrodescendiente)   Universitaria       NaN   \n",
              "\n",
              "  categoria_ocupacional cod_ciiu  ingreso_laboral  \\\n",
              "0            Asalariado     9700        1040000.0   \n",
              "1            Asalariado      NaN              0.0   \n",
              "2         Independiente     0113         700000.0   \n",
              "3            Asalariado     0141        1450000.0   \n",
              "4            Asalariado      NaN              0.0   \n",
              "\n",
              "                                    DESCRIPCION_CIIU   Nombre  \n",
              "0  Actividades de los hogares individuales como e...  BOLÍVAR  \n",
              "1                                                NaN  BOLÍVAR  \n",
              "2                                                NaN  BOLÍVAR  \n",
              "3                                                NaN  BOLÍVAR  \n",
              "4                                                NaN  BOLÍVAR  "
            ],
            "text/html": [
              "\n",
              "  <div id=\"df-2c2e81b0-bec2-4a79-892e-8f2d7a49d01a\" class=\"colab-df-container\">\n",
              "    <div>\n",
              "<style scoped>\n",
              "    .dataframe tbody tr th:only-of-type {\n",
              "        vertical-align: middle;\n",
              "    }\n",
              "\n",
              "    .dataframe tbody tr th {\n",
              "        vertical-align: top;\n",
              "    }\n",
              "\n",
              "    .dataframe thead th {\n",
              "        text-align: right;\n",
              "    }\n",
              "</style>\n",
              "<table border=\"1\" class=\"dataframe\">\n",
              "  <thead>\n",
              "    <tr style=\"text-align: right;\">\n",
              "      <th></th>\n",
              "      <th>id_vivienda</th>\n",
              "      <th>id_hogar</th>\n",
              "      <th>id_persona</th>\n",
              "      <th>mes</th>\n",
              "      <th>clase</th>\n",
              "      <th>departamento</th>\n",
              "      <th>factor_expansion</th>\n",
              "      <th>poblacion_total</th>\n",
              "      <th>sexo</th>\n",
              "      <th>edad</th>\n",
              "      <th>grupo_etnico</th>\n",
              "      <th>nivel_educativo</th>\n",
              "      <th>ocupados</th>\n",
              "      <th>categoria_ocupacional</th>\n",
              "      <th>cod_ciiu</th>\n",
              "      <th>ingreso_laboral</th>\n",
              "      <th>DESCRIPCION_CIIU</th>\n",
              "      <th>Nombre</th>\n",
              "    </tr>\n",
              "  </thead>\n",
              "  <tbody>\n",
              "    <tr>\n",
              "      <th>0</th>\n",
              "      <td>8086872</td>\n",
              "      <td>1</td>\n",
              "      <td>1</td>\n",
              "      <td>1</td>\n",
              "      <td>Centros poblados y rural disperso</td>\n",
              "      <td>13</td>\n",
              "      <td>2184.752283</td>\n",
              "      <td>1</td>\n",
              "      <td>Mujer</td>\n",
              "      <td>54</td>\n",
              "      <td>Ninguno de los anteriores</td>\n",
              "      <td>Ninguno</td>\n",
              "      <td>1.0</td>\n",
              "      <td>Asalariado</td>\n",
              "      <td>9700</td>\n",
              "      <td>1040000.0</td>\n",
              "      <td>Actividades de los hogares individuales como e...</td>\n",
              "      <td>BOLÍVAR</td>\n",
              "    </tr>\n",
              "    <tr>\n",
              "      <th>1</th>\n",
              "      <td>8086874</td>\n",
              "      <td>1</td>\n",
              "      <td>1</td>\n",
              "      <td>1</td>\n",
              "      <td>Centros poblados y rural disperso</td>\n",
              "      <td>13</td>\n",
              "      <td>1208.490211</td>\n",
              "      <td>1</td>\n",
              "      <td>Mujer</td>\n",
              "      <td>79</td>\n",
              "      <td>Negro, mulato (afrodescendiente)</td>\n",
              "      <td>Ninguno</td>\n",
              "      <td>NaN</td>\n",
              "      <td>Asalariado</td>\n",
              "      <td>NaN</td>\n",
              "      <td>0.0</td>\n",
              "      <td>NaN</td>\n",
              "      <td>BOLÍVAR</td>\n",
              "    </tr>\n",
              "    <tr>\n",
              "      <th>2</th>\n",
              "      <td>8086874</td>\n",
              "      <td>1</td>\n",
              "      <td>2</td>\n",
              "      <td>1</td>\n",
              "      <td>Centros poblados y rural disperso</td>\n",
              "      <td>13</td>\n",
              "      <td>1208.490211</td>\n",
              "      <td>1</td>\n",
              "      <td>Hombre</td>\n",
              "      <td>60</td>\n",
              "      <td>Negro, mulato (afrodescendiente)</td>\n",
              "      <td>Ninguno</td>\n",
              "      <td>1.0</td>\n",
              "      <td>Independiente</td>\n",
              "      <td>0113</td>\n",
              "      <td>700000.0</td>\n",
              "      <td>NaN</td>\n",
              "      <td>BOLÍVAR</td>\n",
              "    </tr>\n",
              "    <tr>\n",
              "      <th>3</th>\n",
              "      <td>8086874</td>\n",
              "      <td>1</td>\n",
              "      <td>3</td>\n",
              "      <td>1</td>\n",
              "      <td>Centros poblados y rural disperso</td>\n",
              "      <td>13</td>\n",
              "      <td>1208.490211</td>\n",
              "      <td>1</td>\n",
              "      <td>Hombre</td>\n",
              "      <td>59</td>\n",
              "      <td>Negro, mulato (afrodescendiente)</td>\n",
              "      <td>Ninguno</td>\n",
              "      <td>1.0</td>\n",
              "      <td>Asalariado</td>\n",
              "      <td>0141</td>\n",
              "      <td>1450000.0</td>\n",
              "      <td>NaN</td>\n",
              "      <td>BOLÍVAR</td>\n",
              "    </tr>\n",
              "    <tr>\n",
              "      <th>4</th>\n",
              "      <td>8086875</td>\n",
              "      <td>1</td>\n",
              "      <td>1</td>\n",
              "      <td>1</td>\n",
              "      <td>Centros poblados y rural disperso</td>\n",
              "      <td>13</td>\n",
              "      <td>2104.113905</td>\n",
              "      <td>1</td>\n",
              "      <td>Mujer</td>\n",
              "      <td>80</td>\n",
              "      <td>Negro, mulato (afrodescendiente)</td>\n",
              "      <td>Universitaria</td>\n",
              "      <td>NaN</td>\n",
              "      <td>Asalariado</td>\n",
              "      <td>NaN</td>\n",
              "      <td>0.0</td>\n",
              "      <td>NaN</td>\n",
              "      <td>BOLÍVAR</td>\n",
              "    </tr>\n",
              "  </tbody>\n",
              "</table>\n",
              "</div>\n",
              "    <div class=\"colab-df-buttons\">\n",
              "\n",
              "  <div class=\"colab-df-container\">\n",
              "    <button class=\"colab-df-convert\" onclick=\"convertToInteractive('df-2c2e81b0-bec2-4a79-892e-8f2d7a49d01a')\"\n",
              "            title=\"Convert this dataframe to an interactive table.\"\n",
              "            style=\"display:none;\">\n",
              "\n",
              "  <svg xmlns=\"http://www.w3.org/2000/svg\" height=\"24px\" viewBox=\"0 -960 960 960\">\n",
              "    <path d=\"M120-120v-720h720v720H120Zm60-500h600v-160H180v160Zm220 220h160v-160H400v160Zm0 220h160v-160H400v160ZM180-400h160v-160H180v160Zm440 0h160v-160H620v160ZM180-180h160v-160H180v160Zm440 0h160v-160H620v160Z\"/>\n",
              "  </svg>\n",
              "    </button>\n",
              "\n",
              "  <style>\n",
              "    .colab-df-container {\n",
              "      display:flex;\n",
              "      gap: 12px;\n",
              "    }\n",
              "\n",
              "    .colab-df-convert {\n",
              "      background-color: #E8F0FE;\n",
              "      border: none;\n",
              "      border-radius: 50%;\n",
              "      cursor: pointer;\n",
              "      display: none;\n",
              "      fill: #1967D2;\n",
              "      height: 32px;\n",
              "      padding: 0 0 0 0;\n",
              "      width: 32px;\n",
              "    }\n",
              "\n",
              "    .colab-df-convert:hover {\n",
              "      background-color: #E2EBFA;\n",
              "      box-shadow: 0px 1px 2px rgba(60, 64, 67, 0.3), 0px 1px 3px 1px rgba(60, 64, 67, 0.15);\n",
              "      fill: #174EA6;\n",
              "    }\n",
              "\n",
              "    .colab-df-buttons div {\n",
              "      margin-bottom: 4px;\n",
              "    }\n",
              "\n",
              "    [theme=dark] .colab-df-convert {\n",
              "      background-color: #3B4455;\n",
              "      fill: #D2E3FC;\n",
              "    }\n",
              "\n",
              "    [theme=dark] .colab-df-convert:hover {\n",
              "      background-color: #434B5C;\n",
              "      box-shadow: 0px 1px 3px 1px rgba(0, 0, 0, 0.15);\n",
              "      filter: drop-shadow(0px 1px 2px rgba(0, 0, 0, 0.3));\n",
              "      fill: #FFFFFF;\n",
              "    }\n",
              "  </style>\n",
              "\n",
              "    <script>\n",
              "      const buttonEl =\n",
              "        document.querySelector('#df-2c2e81b0-bec2-4a79-892e-8f2d7a49d01a button.colab-df-convert');\n",
              "      buttonEl.style.display =\n",
              "        google.colab.kernel.accessAllowed ? 'block' : 'none';\n",
              "\n",
              "      async function convertToInteractive(key) {\n",
              "        const element = document.querySelector('#df-2c2e81b0-bec2-4a79-892e-8f2d7a49d01a');\n",
              "        const dataTable =\n",
              "          await google.colab.kernel.invokeFunction('convertToInteractive',\n",
              "                                                    [key], {});\n",
              "        if (!dataTable) return;\n",
              "\n",
              "        const docLinkHtml = 'Like what you see? Visit the ' +\n",
              "          '<a target=\"_blank\" href=https://colab.research.google.com/notebooks/data_table.ipynb>data table notebook</a>'\n",
              "          + ' to learn more about interactive tables.';\n",
              "        element.innerHTML = '';\n",
              "        dataTable['output_type'] = 'display_data';\n",
              "        await google.colab.output.renderOutput(dataTable, element);\n",
              "        const docLink = document.createElement('div');\n",
              "        docLink.innerHTML = docLinkHtml;\n",
              "        element.appendChild(docLink);\n",
              "      }\n",
              "    </script>\n",
              "  </div>\n",
              "\n",
              "\n",
              "    <div id=\"df-1dc504b3-6cbc-451c-a058-ee82203d42a6\">\n",
              "      <button class=\"colab-df-quickchart\" onclick=\"quickchart('df-1dc504b3-6cbc-451c-a058-ee82203d42a6')\"\n",
              "                title=\"Suggest charts\"\n",
              "                style=\"display:none;\">\n",
              "\n",
              "<svg xmlns=\"http://www.w3.org/2000/svg\" height=\"24px\"viewBox=\"0 0 24 24\"\n",
              "     width=\"24px\">\n",
              "    <g>\n",
              "        <path d=\"M19 3H5c-1.1 0-2 .9-2 2v14c0 1.1.9 2 2 2h14c1.1 0 2-.9 2-2V5c0-1.1-.9-2-2-2zM9 17H7v-7h2v7zm4 0h-2V7h2v10zm4 0h-2v-4h2v4z\"/>\n",
              "    </g>\n",
              "</svg>\n",
              "      </button>\n",
              "\n",
              "<style>\n",
              "  .colab-df-quickchart {\n",
              "      --bg-color: #E8F0FE;\n",
              "      --fill-color: #1967D2;\n",
              "      --hover-bg-color: #E2EBFA;\n",
              "      --hover-fill-color: #174EA6;\n",
              "      --disabled-fill-color: #AAA;\n",
              "      --disabled-bg-color: #DDD;\n",
              "  }\n",
              "\n",
              "  [theme=dark] .colab-df-quickchart {\n",
              "      --bg-color: #3B4455;\n",
              "      --fill-color: #D2E3FC;\n",
              "      --hover-bg-color: #434B5C;\n",
              "      --hover-fill-color: #FFFFFF;\n",
              "      --disabled-bg-color: #3B4455;\n",
              "      --disabled-fill-color: #666;\n",
              "  }\n",
              "\n",
              "  .colab-df-quickchart {\n",
              "    background-color: var(--bg-color);\n",
              "    border: none;\n",
              "    border-radius: 50%;\n",
              "    cursor: pointer;\n",
              "    display: none;\n",
              "    fill: var(--fill-color);\n",
              "    height: 32px;\n",
              "    padding: 0;\n",
              "    width: 32px;\n",
              "  }\n",
              "\n",
              "  .colab-df-quickchart:hover {\n",
              "    background-color: var(--hover-bg-color);\n",
              "    box-shadow: 0 1px 2px rgba(60, 64, 67, 0.3), 0 1px 3px 1px rgba(60, 64, 67, 0.15);\n",
              "    fill: var(--button-hover-fill-color);\n",
              "  }\n",
              "\n",
              "  .colab-df-quickchart-complete:disabled,\n",
              "  .colab-df-quickchart-complete:disabled:hover {\n",
              "    background-color: var(--disabled-bg-color);\n",
              "    fill: var(--disabled-fill-color);\n",
              "    box-shadow: none;\n",
              "  }\n",
              "\n",
              "  .colab-df-spinner {\n",
              "    border: 2px solid var(--fill-color);\n",
              "    border-color: transparent;\n",
              "    border-bottom-color: var(--fill-color);\n",
              "    animation:\n",
              "      spin 1s steps(1) infinite;\n",
              "  }\n",
              "\n",
              "  @keyframes spin {\n",
              "    0% {\n",
              "      border-color: transparent;\n",
              "      border-bottom-color: var(--fill-color);\n",
              "      border-left-color: var(--fill-color);\n",
              "    }\n",
              "    20% {\n",
              "      border-color: transparent;\n",
              "      border-left-color: var(--fill-color);\n",
              "      border-top-color: var(--fill-color);\n",
              "    }\n",
              "    30% {\n",
              "      border-color: transparent;\n",
              "      border-left-color: var(--fill-color);\n",
              "      border-top-color: var(--fill-color);\n",
              "      border-right-color: var(--fill-color);\n",
              "    }\n",
              "    40% {\n",
              "      border-color: transparent;\n",
              "      border-right-color: var(--fill-color);\n",
              "      border-top-color: var(--fill-color);\n",
              "    }\n",
              "    60% {\n",
              "      border-color: transparent;\n",
              "      border-right-color: var(--fill-color);\n",
              "    }\n",
              "    80% {\n",
              "      border-color: transparent;\n",
              "      border-right-color: var(--fill-color);\n",
              "      border-bottom-color: var(--fill-color);\n",
              "    }\n",
              "    90% {\n",
              "      border-color: transparent;\n",
              "      border-bottom-color: var(--fill-color);\n",
              "    }\n",
              "  }\n",
              "</style>\n",
              "\n",
              "      <script>\n",
              "        async function quickchart(key) {\n",
              "          const quickchartButtonEl =\n",
              "            document.querySelector('#' + key + ' button');\n",
              "          quickchartButtonEl.disabled = true;  // To prevent multiple clicks.\n",
              "          quickchartButtonEl.classList.add('colab-df-spinner');\n",
              "          try {\n",
              "            const charts = await google.colab.kernel.invokeFunction(\n",
              "                'suggestCharts', [key], {});\n",
              "          } catch (error) {\n",
              "            console.error('Error during call to suggestCharts:', error);\n",
              "          }\n",
              "          quickchartButtonEl.classList.remove('colab-df-spinner');\n",
              "          quickchartButtonEl.classList.add('colab-df-quickchart-complete');\n",
              "        }\n",
              "        (() => {\n",
              "          let quickchartButtonEl =\n",
              "            document.querySelector('#df-1dc504b3-6cbc-451c-a058-ee82203d42a6 button');\n",
              "          quickchartButtonEl.style.display =\n",
              "            google.colab.kernel.accessAllowed ? 'block' : 'none';\n",
              "        })();\n",
              "      </script>\n",
              "    </div>\n",
              "\n",
              "    </div>\n",
              "  </div>\n"
            ],
            "application/vnd.google.colaboratory.intrinsic+json": {
              "type": "dataframe",
              "summary": "{\n  \"name\": \"display(df_empleo\",\n  \"rows\": 5,\n  \"fields\": [\n    {\n      \"column\": \"id_vivienda\",\n      \"properties\": {\n        \"dtype\": \"number\",\n        \"std\": 1,\n        \"min\": 8086872,\n        \"max\": 8086875,\n        \"num_unique_values\": 3,\n        \"samples\": [\n          8086872,\n          8086874,\n          8086875\n        ],\n        \"semantic_type\": \"\",\n        \"description\": \"\"\n      }\n    },\n    {\n      \"column\": \"id_hogar\",\n      \"properties\": {\n        \"dtype\": \"number\",\n        \"std\": 0,\n        \"min\": 1,\n        \"max\": 1,\n        \"num_unique_values\": 1,\n        \"samples\": [\n          1\n        ],\n        \"semantic_type\": \"\",\n        \"description\": \"\"\n      }\n    },\n    {\n      \"column\": \"id_persona\",\n      \"properties\": {\n        \"dtype\": \"number\",\n        \"std\": 0,\n        \"min\": 1,\n        \"max\": 3,\n        \"num_unique_values\": 3,\n        \"samples\": [\n          1\n        ],\n        \"semantic_type\": \"\",\n        \"description\": \"\"\n      }\n    },\n    {\n      \"column\": \"mes\",\n      \"properties\": {\n        \"dtype\": \"number\",\n        \"std\": 0,\n        \"min\": 1,\n        \"max\": 1,\n        \"num_unique_values\": 1,\n        \"samples\": [\n          1\n        ],\n        \"semantic_type\": \"\",\n        \"description\": \"\"\n      }\n    },\n    {\n      \"column\": \"clase\",\n      \"properties\": {\n        \"dtype\": \"category\",\n        \"num_unique_values\": 1,\n        \"samples\": [\n          \"Centros poblados y rural disperso\"\n        ],\n        \"semantic_type\": \"\",\n        \"description\": \"\"\n      }\n    },\n    {\n      \"column\": \"departamento\",\n      \"properties\": {\n        \"dtype\": \"category\",\n        \"num_unique_values\": 1,\n        \"samples\": [\n          \"13\"\n        ],\n        \"semantic_type\": \"\",\n        \"description\": \"\"\n      }\n    },\n    {\n      \"column\": \"factor_expansion\",\n      \"properties\": {\n        \"dtype\": \"number\",\n        \"std\": 513.4291992617221,\n        \"min\": 1208.4902112,\n        \"max\": 2184.7522833,\n        \"num_unique_values\": 3,\n        \"samples\": [\n          2184.7522833\n        ],\n        \"semantic_type\": \"\",\n        \"description\": \"\"\n      }\n    },\n    {\n      \"column\": \"poblacion_total\",\n      \"properties\": {\n        \"dtype\": \"number\",\n        \"std\": 0,\n        \"min\": 1,\n        \"max\": 1,\n        \"num_unique_values\": 1,\n        \"samples\": [\n          1\n        ],\n        \"semantic_type\": \"\",\n        \"description\": \"\"\n      }\n    },\n    {\n      \"column\": \"sexo\",\n      \"properties\": {\n        \"dtype\": \"category\",\n        \"num_unique_values\": 2,\n        \"samples\": [\n          \"Hombre\"\n        ],\n        \"semantic_type\": \"\",\n        \"description\": \"\"\n      }\n    },\n    {\n      \"column\": \"edad\",\n      \"properties\": {\n        \"dtype\": \"number\",\n        \"std\": 12,\n        \"min\": 54,\n        \"max\": 80,\n        \"num_unique_values\": 5,\n        \"samples\": [\n          79\n        ],\n        \"semantic_type\": \"\",\n        \"description\": \"\"\n      }\n    },\n    {\n      \"column\": \"grupo_etnico\",\n      \"properties\": {\n        \"dtype\": \"category\",\n        \"num_unique_values\": 2,\n        \"samples\": [\n          \"Negro, mulato (afrodescendiente)\"\n        ],\n        \"semantic_type\": \"\",\n        \"description\": \"\"\n      }\n    },\n    {\n      \"column\": \"nivel_educativo\",\n      \"properties\": {\n        \"dtype\": \"category\",\n        \"num_unique_values\": 2,\n        \"samples\": [\n          \"Universitaria\"\n        ],\n        \"semantic_type\": \"\",\n        \"description\": \"\"\n      }\n    },\n    {\n      \"column\": \"ocupados\",\n      \"properties\": {\n        \"dtype\": \"number\",\n        \"std\": 0.0,\n        \"min\": 1.0,\n        \"max\": 1.0,\n        \"num_unique_values\": 1,\n        \"samples\": [\n          1.0\n        ],\n        \"semantic_type\": \"\",\n        \"description\": \"\"\n      }\n    },\n    {\n      \"column\": \"categoria_ocupacional\",\n      \"properties\": {\n        \"dtype\": \"category\",\n        \"num_unique_values\": 2,\n        \"samples\": [\n          \"Independiente\"\n        ],\n        \"semantic_type\": \"\",\n        \"description\": \"\"\n      }\n    },\n    {\n      \"column\": \"cod_ciiu\",\n      \"properties\": {\n        \"dtype\": \"string\",\n        \"num_unique_values\": 3,\n        \"samples\": [\n          \"9700\"\n        ],\n        \"semantic_type\": \"\",\n        \"description\": \"\"\n      }\n    },\n    {\n      \"column\": \"ingreso_laboral\",\n      \"properties\": {\n        \"dtype\": \"number\",\n        \"std\": 640093.7431345505,\n        \"min\": 0.0,\n        \"max\": 1450000.0,\n        \"num_unique_values\": 4,\n        \"samples\": [\n          0.0\n        ],\n        \"semantic_type\": \"\",\n        \"description\": \"\"\n      }\n    },\n    {\n      \"column\": \"DESCRIPCION_CIIU\",\n      \"properties\": {\n        \"dtype\": \"category\",\n        \"num_unique_values\": 1,\n        \"samples\": [\n          \"Actividades de los hogares individuales como empleadores de personal dom\\u00e9stico\"\n        ],\n        \"semantic_type\": \"\",\n        \"description\": \"\"\n      }\n    },\n    {\n      \"column\": \"Nombre\",\n      \"properties\": {\n        \"dtype\": \"category\",\n        \"num_unique_values\": 1,\n        \"samples\": [\n          \"BOL\\u00cdVAR\"\n        ],\n        \"semantic_type\": \"\",\n        \"description\": \"\"\n      }\n    }\n  ]\n}"
            }
          },
          "metadata": {}
        }
      ]
    },
    {
      "cell_type": "code",
      "source": [
        "# Celda de verificación (no modificar)\n",
        "assert 'Nombre' in df_empleo.columns, \\\n",
        "    f\"La columna '{'Nombre'}' no se encontró. Revisa el nombre que le diste a la nueva columna.\"\n",
        "assert df_empleo['Nombre'].notna().sum() > 0, \\\n",
        "    f\"La columna '{'Nombre'}' está completamente vacía. Verifica las llaves del merge.\"\n",
        "print(\"✅ Verificación del merge exitosa.\")\n",
        "assert df_empleo.shape[0] == 408423, f\"Error en las filas. Se esperaban 408423, pero se encontraron {df_empleo.shape[0]}.\"\n",
        "assert df_empleo.shape[1] == 18, f\"Error en las columnas. Se esperaban 18, pero se encontraron {df_empleo.shape[1]}.\"\n",
        "print(\"¡Las dimensiones del DataFrame son correctas! ✅\")\n",
        "print(\"\\n¡Punto 5 completado con éxito! ✅\")"
      ],
      "metadata": {
        "id": "KZHvI9gMKwVN",
        "colab": {
          "base_uri": "https://localhost:8080/"
        },
        "outputId": "da5632a9-2f95-431e-90eb-9c6744f385d2"
      },
      "execution_count": 216,
      "outputs": [
        {
          "output_type": "stream",
          "name": "stdout",
          "text": [
            "✅ Verificación del merge exitosa.\n",
            "¡Las dimensiones del DataFrame son correctas! ✅\n",
            "\n",
            "¡Punto 5 completado con éxito! ✅\n"
          ]
        }
      ]
    },
    {
      "cell_type": "markdown",
      "source": [
        "# Ejercicio 6: Crear nuevas variables y reorganizar columnas (10%)"
      ],
      "metadata": {
        "id": "Y-ItflSvwyUp"
      }
    },
    {
      "cell_type": "markdown",
      "source": [
        "La GEIH cuenta con un factor de expansión que permite extrapolar los datos de los encuestados a totales para la población colombiana. Usar este factor de expansión, permite calcular la población total del país, la población en edad de trabajar, el número de ocupados, el número de desempleados, entre otros datos."
      ],
      "metadata": {
        "id": "iLZcL0jZ5s3a"
      }
    },
    {
      "cell_type": "markdown",
      "source": [
        "1. Crea una nueva columna llamada \"fex\", la cual corresponderá a la columna 'factor_expansion' dividida en 6 (se divide en 6, ya que estamos tomando el dato de 6 meses)."
      ],
      "metadata": {
        "id": "4Kx-Bp4_ymPr"
      }
    },
    {
      "cell_type": "code",
      "source": [
        "df_empleo['fex'] = df_empleo['factor_expansion'] / 6"
      ],
      "metadata": {
        "id": "7mrMJ9nbxSAQ"
      },
      "execution_count": 217,
      "outputs": []
    },
    {
      "cell_type": "markdown",
      "source": [
        "2. Crea una nueva columna llamada 'poblacion_total_ex', la cual corresponderá a la columna 'poblacion_total' multiplicada por la columna 'fex'."
      ],
      "metadata": {
        "id": "DktrPTCoy4M1"
      }
    },
    {
      "cell_type": "code",
      "source": [
        "df_empleo['poblacion_total_ex'] = df_empleo['poblacion_total'] * df_empleo['fex']"
      ],
      "metadata": {
        "id": "0aepu9XDzVkk"
      },
      "execution_count": 218,
      "outputs": []
    },
    {
      "cell_type": "markdown",
      "source": [
        "3. Crea una nueva columna llamada 'ocupados_ex', la cual corresponderá a la columna 'ocupados' multiplicada por la columna 'fex'."
      ],
      "metadata": {
        "id": "hX_zBVyNzIac"
      }
    },
    {
      "cell_type": "code",
      "source": [
        "df_empleo['ocupados_ex'] = df_empleo['ocupados'] * df_empleo['fex']"
      ],
      "metadata": {
        "id": "dvIT6DWszV70"
      },
      "execution_count": 219,
      "outputs": []
    },
    {
      "cell_type": "markdown",
      "source": [
        "4. Crea una nueva columna llamada 'joven', la cual debe decir 'Población joven' si la persona encuestada tiene entre 15 y 28 años (15 y 28 incluidos). De lo contrario, debe decir 'Resto de población'."
      ],
      "metadata": {
        "id": "L8wLDKDozSV_"
      }
    },
    {
      "cell_type": "code",
      "source": [
        "df_empleo['joven'] = df_empleo['edad'].apply(lambda x: 'Población joven' if 15 <= x <= 28 else 'Resto de población')"
      ],
      "metadata": {
        "id": "tf5fV4BuzWhZ"
      },
      "execution_count": 220,
      "outputs": []
    },
    {
      "cell_type": "markdown",
      "source": [
        "5. Reorganiza las columnas con el siguiente orden: 'id_vivienda', 'id_hogar', 'id_persona', 'mes', 'clase', 'departamento', 'Nombre', 'factor_expansion', 'fex', 'poblacion_total', 'poblacion_total_ex', 'sexo', 'edad', 'joven', 'grupo_etnico', 'nivel_educativo', 'ocupados', 'ocupados_ex', 'categoria_ocupacional', 'cod_ciiu', 'DESCRIPCION_CIIU', 'ingreso_laboral'"
      ],
      "metadata": {
        "id": "iHWtz2x8z_ht"
      }
    },
    {
      "cell_type": "code",
      "source": [
        "orden_columnas = [\n",
        "    'id_vivienda', 'id_hogar', 'id_persona', 'mes', 'clase',\n",
        "    'departamento', 'Nombre', 'factor_expansion', 'fex',\n",
        "    'poblacion_total', 'poblacion_total_ex', 'sexo', 'edad', 'joven',\n",
        "    'grupo_etnico', 'nivel_educativo', 'ocupados', 'ocupados_ex',\n",
        "    'categoria_ocupacional', 'cod_ciiu', 'DESCRIPCION_CIIU', 'ingreso_laboral'\n",
        "]\n",
        "\n",
        "df_empleo = df_empleo[orden_columnas]"
      ],
      "metadata": {
        "id": "MbyQ3HpS0RUH"
      },
      "execution_count": 221,
      "outputs": []
    },
    {
      "cell_type": "code",
      "source": [
        "# Celda de verificación (no modificar)\n",
        "orden_esperado = [\n",
        "    'id_vivienda', 'id_hogar', 'id_persona', 'mes', 'clase',\n",
        "    'departamento', 'Nombre', 'factor_expansion', 'fex',\n",
        "    'poblacion_total', 'poblacion_total_ex', 'sexo', 'edad', 'joven',\n",
        "    'grupo_etnico', 'nivel_educativo', 'ocupados', 'ocupados_ex',\n",
        "    'categoria_ocupacional', 'cod_ciiu', 'DESCRIPCION_CIIU', 'ingreso_laboral'\n",
        "]\n",
        "orden_actual = df_empleo.columns.tolist()\n",
        "assert orden_actual == orden_esperado, \\\n",
        "    f\"\"\"El orden de las columnas es incorrecto.\n",
        "    - Orden Esperado: {orden_esperado}\n",
        "    - Orden Encontrado: {orden_actual}\"\"\"\n",
        "assert df_empleo.shape[0] == 408423, f\"Error en las filas. Se esperaban 408423, pero se encontraron {df_empleo.shape[0]}.\"\n",
        "assert df_empleo.shape[1] == 22, f\"Error en las columnas. Se esperaban 22, pero se encontraron {df_empleo.shape[1]}.\"\n",
        "print(\"¡Las dimensiones del DataFrame son correctas! ✅\")\n",
        "print(\"\\n¡Punto 6 completado con éxito! ✅\")"
      ],
      "metadata": {
        "id": "ihsGB0I4DRVY",
        "colab": {
          "base_uri": "https://localhost:8080/"
        },
        "outputId": "b2b3bd77-fe34-41f3-9e18-e9e8cc920b38"
      },
      "execution_count": 222,
      "outputs": [
        {
          "output_type": "stream",
          "name": "stdout",
          "text": [
            "¡Las dimensiones del DataFrame son correctas! ✅\n",
            "\n",
            "¡Punto 6 completado con éxito! ✅\n"
          ]
        }
      ]
    },
    {
      "cell_type": "markdown",
      "source": [
        "# Ejercicio 7: Cambiar tipo de dato (5%)\n",
        "\n"
      ],
      "metadata": {
        "id": "8Gpb7yfwKFO-"
      }
    },
    {
      "cell_type": "markdown",
      "source": [
        "Para realizar cálculos y análisis correctamente, las columnas deben tener el tipo de dato adecuado (numérico, categórico, etc.)."
      ],
      "metadata": {
        "id": "hkFBRCzwKOEE"
      }
    },
    {
      "cell_type": "markdown",
      "source": [
        "1.  Muestra en pantalla los tipos de datos actuales de `df_empleo`."
      ],
      "metadata": {
        "id": "kRT7DF6s7BCL"
      }
    },
    {
      "cell_type": "code",
      "source": [
        "display(df_empleo.dtypes)"
      ],
      "metadata": {
        "id": "k0_IEFNH0_UK",
        "colab": {
          "base_uri": "https://localhost:8080/",
          "height": 774
        },
        "outputId": "99d70c9b-94bc-4ebf-b981-420c3e730a2a"
      },
      "execution_count": 223,
      "outputs": [
        {
          "output_type": "display_data",
          "data": {
            "text/plain": [
              "id_vivienda                int64\n",
              "id_hogar                   int64\n",
              "id_persona                 int64\n",
              "mes                        int64\n",
              "clase                     object\n",
              "departamento              object\n",
              "Nombre                    object\n",
              "factor_expansion         float64\n",
              "fex                      float64\n",
              "poblacion_total            int64\n",
              "poblacion_total_ex       float64\n",
              "sexo                      object\n",
              "edad                       int64\n",
              "joven                     object\n",
              "grupo_etnico              object\n",
              "nivel_educativo           object\n",
              "ocupados                 float64\n",
              "ocupados_ex              float64\n",
              "categoria_ocupacional     object\n",
              "cod_ciiu                  object\n",
              "DESCRIPCION_CIIU          object\n",
              "ingreso_laboral          float64\n",
              "dtype: object"
            ],
            "text/html": [
              "<div>\n",
              "<style scoped>\n",
              "    .dataframe tbody tr th:only-of-type {\n",
              "        vertical-align: middle;\n",
              "    }\n",
              "\n",
              "    .dataframe tbody tr th {\n",
              "        vertical-align: top;\n",
              "    }\n",
              "\n",
              "    .dataframe thead th {\n",
              "        text-align: right;\n",
              "    }\n",
              "</style>\n",
              "<table border=\"1\" class=\"dataframe\">\n",
              "  <thead>\n",
              "    <tr style=\"text-align: right;\">\n",
              "      <th></th>\n",
              "      <th>0</th>\n",
              "    </tr>\n",
              "  </thead>\n",
              "  <tbody>\n",
              "    <tr>\n",
              "      <th>id_vivienda</th>\n",
              "      <td>int64</td>\n",
              "    </tr>\n",
              "    <tr>\n",
              "      <th>id_hogar</th>\n",
              "      <td>int64</td>\n",
              "    </tr>\n",
              "    <tr>\n",
              "      <th>id_persona</th>\n",
              "      <td>int64</td>\n",
              "    </tr>\n",
              "    <tr>\n",
              "      <th>mes</th>\n",
              "      <td>int64</td>\n",
              "    </tr>\n",
              "    <tr>\n",
              "      <th>clase</th>\n",
              "      <td>object</td>\n",
              "    </tr>\n",
              "    <tr>\n",
              "      <th>departamento</th>\n",
              "      <td>object</td>\n",
              "    </tr>\n",
              "    <tr>\n",
              "      <th>Nombre</th>\n",
              "      <td>object</td>\n",
              "    </tr>\n",
              "    <tr>\n",
              "      <th>factor_expansion</th>\n",
              "      <td>float64</td>\n",
              "    </tr>\n",
              "    <tr>\n",
              "      <th>fex</th>\n",
              "      <td>float64</td>\n",
              "    </tr>\n",
              "    <tr>\n",
              "      <th>poblacion_total</th>\n",
              "      <td>int64</td>\n",
              "    </tr>\n",
              "    <tr>\n",
              "      <th>poblacion_total_ex</th>\n",
              "      <td>float64</td>\n",
              "    </tr>\n",
              "    <tr>\n",
              "      <th>sexo</th>\n",
              "      <td>object</td>\n",
              "    </tr>\n",
              "    <tr>\n",
              "      <th>edad</th>\n",
              "      <td>int64</td>\n",
              "    </tr>\n",
              "    <tr>\n",
              "      <th>joven</th>\n",
              "      <td>object</td>\n",
              "    </tr>\n",
              "    <tr>\n",
              "      <th>grupo_etnico</th>\n",
              "      <td>object</td>\n",
              "    </tr>\n",
              "    <tr>\n",
              "      <th>nivel_educativo</th>\n",
              "      <td>object</td>\n",
              "    </tr>\n",
              "    <tr>\n",
              "      <th>ocupados</th>\n",
              "      <td>float64</td>\n",
              "    </tr>\n",
              "    <tr>\n",
              "      <th>ocupados_ex</th>\n",
              "      <td>float64</td>\n",
              "    </tr>\n",
              "    <tr>\n",
              "      <th>categoria_ocupacional</th>\n",
              "      <td>object</td>\n",
              "    </tr>\n",
              "    <tr>\n",
              "      <th>cod_ciiu</th>\n",
              "      <td>object</td>\n",
              "    </tr>\n",
              "    <tr>\n",
              "      <th>DESCRIPCION_CIIU</th>\n",
              "      <td>object</td>\n",
              "    </tr>\n",
              "    <tr>\n",
              "      <th>ingreso_laboral</th>\n",
              "      <td>float64</td>\n",
              "    </tr>\n",
              "  </tbody>\n",
              "</table>\n",
              "</div><br><label><b>dtype:</b> object</label>"
            ]
          },
          "metadata": {}
        }
      ]
    },
    {
      "cell_type": "markdown",
      "source": [
        "2.  Las siguientes columnas representan categorías: 'clase', 'departamento', 'Nombre', 'sexo', 'joven', 'grupo_etnico', 'nivel_educativo', 'categoria_ocupacional', 'cod_ciiu', 'DESCRIPCION_CIIU'. Conviértelas al tipo `category` para optimizar el uso de memoria y facilitar análisis futuros."
      ],
      "metadata": {
        "id": "zXy988Qm1OS2"
      }
    },
    {
      "cell_type": "code",
      "source": [
        "columnas_a_categorizar = [\n",
        "    'clase', 'departamento', 'Nombre', 'sexo', 'joven', 'grupo_etnico',\n",
        "    'nivel_educativo', 'categoria_ocupacional', 'cod_ciiu',\n",
        "    'DESCRIPCION_CIIU'\n",
        "]\n",
        "\n",
        "for col in columnas_a_categorizar:\n",
        "    if col in df_empleo.columns:\n",
        "        df_empleo[col] = df_empleo[col].astype('category')\n",
        "    else:\n",
        "        print(f\"Advertencia: La columna '{col}' no se encontró en el DataFrame.\")\n",
        "\n",
        "print(\"Se convirtieron las columnas especificadas al tipo 'category'.\")"
      ],
      "metadata": {
        "id": "5BkR3NX802TV",
        "colab": {
          "base_uri": "https://localhost:8080/"
        },
        "outputId": "9437a408-0757-4b4f-b615-c7d18d4ea0af"
      },
      "execution_count": 235,
      "outputs": [
        {
          "output_type": "stream",
          "name": "stdout",
          "text": [
            "Se convirtieron las columnas especificadas al tipo 'category'.\n"
          ]
        }
      ]
    },
    {
      "cell_type": "code",
      "source": [
        "# Celda de verificación (no modificar)\n",
        "columnas_categoricas_esperadas = [\n",
        "    'clase', 'departamento', 'Nombre', 'sexo', 'joven', 'grupo_etnico',\n",
        "    'nivel_educativo', 'categoria_ocupacional', 'cod_ciiu',\n",
        "    'DESCRIPCION_CIIU'\n",
        "]\n",
        "for columna in columnas_categoricas_esperadas:\n",
        "    assert columna in df_empleo.columns, \\\n",
        "        f\"La columna '{columna}' no fue encontrada en el DataFrame.\"\n",
        "    es_categoria = pd.api.types.is_categorical_dtype(df_empleo[columna])\n",
        "    assert es_categoria, \\\n",
        "        f\"La columna '{columna}' no fue convertida al tipo 'category'. Su tipo actual es {df_empleo[columna].dtype}.\"\n",
        "print(\"¡Verificación completada con éxito! ✅ Todas las columnas especificadas son del tipo 'category'.\")\n",
        "print(\"\\n¡Punto 7 completado con éxito! ✅\")"
      ],
      "metadata": {
        "id": "JFzWIE9YDTif",
        "colab": {
          "base_uri": "https://localhost:8080/"
        },
        "outputId": "e8f9ee0d-3501-455c-e671-f03741560424"
      },
      "execution_count": 236,
      "outputs": [
        {
          "output_type": "stream",
          "name": "stdout",
          "text": [
            "¡Verificación completada con éxito! ✅ Todas las columnas especificadas son del tipo 'category'.\n",
            "\n",
            "¡Punto 7 completado con éxito! ✅\n"
          ]
        },
        {
          "output_type": "stream",
          "name": "stderr",
          "text": [
            "/tmp/ipython-input-416816491.py:10: DeprecationWarning: is_categorical_dtype is deprecated and will be removed in a future version. Use isinstance(dtype, pd.CategoricalDtype) instead\n",
            "  es_categoria = pd.api.types.is_categorical_dtype(df_empleo[columna])\n"
          ]
        }
      ]
    },
    {
      "cell_type": "markdown",
      "source": [
        "# Ejercicio 8: Ordenar el dataframe (5%)"
      ],
      "metadata": {
        "id": "Wb-HHqtYxCkN"
      }
    },
    {
      "cell_type": "markdown",
      "source": [
        "1. Ordena el dataframe por la columna \"edad\" de mayor a menor. Observa la columna 'edad' y escribe en una celda de markdown cuál fue la edad mínima y la edad máxima de las personas que respondieron la encuesta de la GEIH."
      ],
      "metadata": {
        "id": "TDMbWuW61amC"
      }
    },
    {
      "cell_type": "code",
      "source": [
        "df_empleo = df_empleo.sort_values(by='edad', ascending=False)\n",
        "\n",
        "print(f\"Edad mínima en el DataFrame: {df_empleo['edad'].min()}\")\n",
        "print(f\"Edad máxima en el DataFrame: {df_empleo['edad'].max()}\")"
      ],
      "metadata": {
        "id": "06mW7HzCxTkj",
        "colab": {
          "base_uri": "https://localhost:8080/"
        },
        "outputId": "be388a5a-69e6-4728-e289-5f5b6da4ba72"
      },
      "execution_count": 226,
      "outputs": [
        {
          "output_type": "stream",
          "name": "stdout",
          "text": [
            "Edad mínima en el DataFrame: 0\n",
            "Edad máxima en el DataFrame: 106\n"
          ]
        }
      ]
    },
    {
      "cell_type": "markdown",
      "source": [
        "Escribe tu análisis aquí:\n"
      ],
      "metadata": {
        "id": "31QU_qxs159w"
      }
    },
    {
      "cell_type": "markdown",
      "metadata": {
        "id": "05bd581a"
      },
      "source": [
        "**Análisis de la edad mínima y máxima:**\n",
        "\n",
        "Al ordenar el DataFrame por edad, pudimos observar que la edad mínima registrada es 0 años y la edad máxima es 106 años. Esto es esperable en una encuesta de hogares como la GEIH, ya que busca representar a toda la población, incluyendo recién nacidos y personas de la tercera edad. La presencia de edades de 0 años indica que se incluyeron a todos los miembros del hogar, sin importar su edad, lo cual es fundamental para tener una imagen completa de la población."
      ]
    },
    {
      "cell_type": "code",
      "source": [
        "# Celda de verificación (no modificar)\n",
        "es_descendiente = df_empleo['edad'].is_monotonic_decreasing\n",
        "assert es_descendiente, \"La columna 'edad' no está ordenada correctamente de mayor a menor.\"\n",
        "print(\"\\n¡Punto 8 completado con éxito! ✅\")"
      ],
      "metadata": {
        "id": "kWZSyN2BDVR6",
        "colab": {
          "base_uri": "https://localhost:8080/"
        },
        "outputId": "1c345718-c0f8-47b6-d81b-1b475aa96c18"
      },
      "execution_count": 227,
      "outputs": [
        {
          "output_type": "stream",
          "name": "stdout",
          "text": [
            "\n",
            "¡Punto 8 completado con éxito! ✅\n"
          ]
        }
      ]
    },
    {
      "cell_type": "markdown",
      "source": [
        "# Ejercicio 9: Groupby (20%)"
      ],
      "metadata": {
        "id": "c54hCArwxGil"
      }
    },
    {
      "cell_type": "markdown",
      "source": [
        "Agrupar los datos por categorías, nos permite realizar análisis más profundos y obtener insights valiosos, que a simple vista no vemos en la base de datos."
      ],
      "metadata": {
        "id": "ySxil6P27h77"
      }
    },
    {
      "cell_type": "markdown",
      "source": [
        "1. Crea un nuevo dataframe llamado \"df_sexo\" donde se agrupe por 'sexo' y se calcule la suma de las columnas 'poblacion_total_ex' y 'ocupados_ex'. Crea una nueva columna que se llame 'porcentaje_ocupados' donde dividas las columna 'ocupados_ex' sobre 'poblacion_total_ex'. Al final usa reset_index() para convertir las categorías de sexo en una columna."
      ],
      "metadata": {
        "id": "WIHMjFV-22-u"
      }
    },
    {
      "cell_type": "code",
      "source": [
        "df_sexo = df_empleo.groupby('sexo', observed=False)[['poblacion_total_ex', 'ocupados_ex']].sum()\n",
        "\n",
        "df_sexo = df_sexo.reindex(dic_sexo.values())\n",
        "df_sexo['porcentaje_ocupados'] = df_sexo['ocupados_ex'] / df_sexo['poblacion_total_ex']\n",
        "\n",
        "df_sexo = df_sexo.reset_index()\n",
        "df_sexo = df_sexo.rename(columns={'index': 'sexo'})"
      ],
      "metadata": {
        "id": "7WYPnwy122-w"
      },
      "execution_count": 228,
      "outputs": []
    },
    {
      "cell_type": "code",
      "source": [
        "# Celda de verificación (no modificar)\n",
        "import numpy as np\n",
        "dimensiones_esperadas = (2, 4)\n",
        "assert df_sexo.shape == dimensiones_esperadas, \\\n",
        "    f\"Las dimensiones son incorrectas. Se esperaba {dimensiones_esperadas}, pero se encontró {df_sexo.shape}. ¿Aplicaste .reset_index()?\"\n",
        "assert 'sexo' in df_sexo.columns, \\\n",
        "    \"La columna 'sexo' no se encontró. ¿Olvidaste usar .reset_index() al final?\"\n",
        "assert not isinstance(df_sexo.index, pd.Index) or df_sexo.index.name != 'sexo', \\\n",
        "    \"El índice del DataFrame sigue siendo 'sexo'. Asegúrate de haber aplicado .reset_index().\"\n",
        "print(\"¡Verificación completada con éxito! ✅\")"
      ],
      "metadata": {
        "id": "NMRagQ94XNGL",
        "colab": {
          "base_uri": "https://localhost:8080/"
        },
        "outputId": "11d3922b-2b26-4b3f-9524-f6b41534631d"
      },
      "execution_count": 229,
      "outputs": [
        {
          "output_type": "stream",
          "name": "stdout",
          "text": [
            "¡Verificación completada con éxito! ✅\n"
          ]
        }
      ]
    },
    {
      "cell_type": "markdown",
      "source": [
        "2. Crea un nuevo dataframe llamado \"df_educacion\" donde se agrupe por 'nivel_educativo' y se calcule la suma de las columnas 'poblacion_total_ex' y 'ocupados_ex'. Crea una nueva columna que se llame 'porcentaje_ocupados' donde dividas las columna 'ocupados_ex' sobre 'poblacion_total_ex'. Al final usa reset_index() para convertir las categorías de nivel educativo en una columna."
      ],
      "metadata": {
        "id": "MefzseKr23UG"
      }
    },
    {
      "cell_type": "code",
      "source": [
        "df_educacion = df_empleo.groupby('nivel_educativo', observed=False)[['poblacion_total_ex', 'ocupados_ex']].sum()\n",
        "df_educacion['porcentaje_ocupados'] = df_educacion['ocupados_ex'] / df_educacion['poblacion_total_ex']\n",
        "df_educacion = df_educacion.reset_index()"
      ],
      "metadata": {
        "id": "3NRkgzh523UH"
      },
      "execution_count": 230,
      "outputs": []
    },
    {
      "cell_type": "code",
      "source": [
        "# --- Celda de Verificación (No modificar) ---\n",
        "import numpy as np\n",
        "n_niveles_educativos = df_empleo['nivel_educativo'].nunique()\n",
        "dimensiones_esperadas = (n_niveles_educativos, 4)\n",
        "assert df_educacion.shape == dimensiones_esperadas, \\\n",
        "    f\"Las dimensiones son incorrectas. Se esperaba {dimensiones_esperadas} (filas, columnas), pero se encontró {df_educacion.shape}.\"\n",
        "columnas_esperadas = {'nivel_educativo', 'poblacion_total_ex', 'ocupados_ex', 'porcentaje_ocupados'}\n",
        "assert set(df_educacion.columns) == columnas_esperadas, \\\n",
        "    f\"Los nombres de las columnas no son correctos. Se esperaban {columnas_esperadas}.\"\n",
        "assert 'nivel_educativo' in df_educacion.columns, \\\n",
        "    \"La columna 'nivel_educativo' no se encontró. ¿Olvidaste usar .reset_index() al final?\"\n",
        "print(\"¡Verificación completada con éxito! ✅\")"
      ],
      "metadata": {
        "id": "SFZFncwpfpft",
        "colab": {
          "base_uri": "https://localhost:8080/"
        },
        "outputId": "42680cfd-0ad0-4b2f-878c-136ca2198fe5"
      },
      "execution_count": 231,
      "outputs": [
        {
          "output_type": "stream",
          "name": "stdout",
          "text": [
            "¡Verificación completada con éxito! ✅\n"
          ]
        }
      ]
    },
    {
      "cell_type": "markdown",
      "source": [
        "3. En una celda de Markdown escribe qué conclusiones puedes sacar de la información obtenida en df_sexo y df_educacion."
      ],
      "metadata": {
        "id": "KuEjT1Jp3aFT"
      }
    },
    {
      "cell_type": "markdown",
      "metadata": {
        "id": "cf733584"
      },
      "source": [
        "**Análisis de df_sexo y df_educacion:**\n",
        "\n",
        "Los dataframes `df_sexo` y `df_educacion` muestran un panorama incompleto del mercado laboral. `df_sexo` solo presenta datos para 'Hombre' (tasa de ocupación ~45.26%), y `df_educacion` únicamente para el nivel 'Ninguno' (tasa de ocupación ~45.26%). Esta limitación se debe a la aparente falta de datos para otras categorías en las columnas de origen, lo que impide un análisis comparativo completo por sexo y nivel educativo."
      ]
    },
    {
      "cell_type": "markdown",
      "source": [
        "Escribe tu análisis aquí:"
      ],
      "metadata": {
        "id": "BY6s7ETs3o4h"
      }
    },
    {
      "cell_type": "code",
      "source": [
        "# Celda de verificación (no modificar)\n",
        "print(\"\\n¡Punto 9 completado con éxito! ✅\")"
      ],
      "metadata": {
        "id": "FCIU3wuCju-M",
        "colab": {
          "base_uri": "https://localhost:8080/"
        },
        "outputId": "12c8a22d-a06c-4ef4-be71-db7063130738"
      },
      "execution_count": 232,
      "outputs": [
        {
          "output_type": "stream",
          "name": "stdout",
          "text": [
            "\n",
            "¡Punto 9 completado con éxito! ✅\n"
          ]
        }
      ]
    },
    {
      "cell_type": "markdown",
      "source": [
        "# Ejercicio 10: Exportar datos (5%)"
      ],
      "metadata": {
        "id": "-GXuUA5UxKDF"
      }
    },
    {
      "cell_type": "markdown",
      "source": [
        "Muchas veces requerimos exportar los resultados de nuestros análisis a Excel para compartir la información con otras personas."
      ],
      "metadata": {
        "id": "Q54IBwLT72mm"
      }
    },
    {
      "cell_type": "markdown",
      "source": [
        "Exporta los dataframes df_sexo y df_educacion a un Excel llamado 'Analisis_ocupados.xlsx'. Cada dataframe debe quedar en una hoja diferente. La hoja de 'df_sexo' se debe llamar 'sexo' y la hoja de 'df_educacion' se debe llamar 'educacion'."
      ],
      "metadata": {
        "id": "Ka546tVp3ulL"
      }
    },
    {
      "cell_type": "code",
      "source": [
        "nombre_archivo_excel = 'Analisis_ocupados.xlsx'\n",
        "\n",
        "with pd.ExcelWriter(nombre_archivo_excel) as writer:\n",
        "    df_sexo.to_excel(writer, sheet_name='sexo', index=False)\n",
        "    df_educacion.to_excel(writer, sheet_name='educacion', index=False)"
      ],
      "metadata": {
        "id": "H08btaRixUaT"
      },
      "execution_count": 233,
      "outputs": []
    },
    {
      "cell_type": "code",
      "source": [
        "# Celda de verificación (no modificar)\n",
        "import os\n",
        "import pandas as pd\n",
        "nombre_archivo = 'Analisis_ocupados.xlsx'\n",
        "assert os.path.exists(nombre_archivo), \\\n",
        "    f\"No se encontró el archivo '{nombre_archivo}'. ¿Lo exportaste con el nombre correcto?\"\n",
        "try:\n",
        "    xls = pd.ExcelFile(nombre_archivo)\n",
        "    nombres_hojas_encontrados = xls.sheet_names\n",
        "    nombres_hojas_esperados = ['sexo', 'educacion']\n",
        "    assert set(nombres_hojas_encontrados) == set(nombres_hojas_esperados), \\\n",
        "        f\"Los nombres de las hojas no son correctos. Se esperaban {nombres_hojas_esperados} pero se encontraron {nombres_hojas_encontrados}.\"\n",
        "    print(\"¡Verificación completada con éxito! ✅\")\n",
        "except Exception as e:\n",
        "    print(f\"Ocurrió un error al verificar el archivo: {e}\")\n",
        "print(\"\\n¡Punto 10 completado con éxito! ✅\")"
      ],
      "metadata": {
        "id": "LE9x_SUxDfr6",
        "colab": {
          "base_uri": "https://localhost:8080/"
        },
        "outputId": "a92c79f9-5594-481d-8e5b-32acdaca375b"
      },
      "execution_count": 234,
      "outputs": [
        {
          "output_type": "stream",
          "name": "stdout",
          "text": [
            "¡Verificación completada con éxito! ✅\n",
            "\n",
            "¡Punto 10 completado con éxito! ✅\n"
          ]
        }
      ]
    }
  ],
  "metadata": {
    "colab": {
      "provenance": []
    },
    "kernelspec": {
      "display_name": "myenv",
      "language": "python",
      "name": "python3"
    },
    "language_info": {
      "codemirror_mode": {
        "name": "ipython",
        "version": 3
      },
      "file_extension": ".py",
      "mimetype": "text/x-python",
      "name": "python",
      "nbconvert_exporter": "python",
      "pygments_lexer": "ipython3",
      "version": "3.11.1"
    },
    "orig_nbformat": 4
  },
  "nbformat": 4,
  "nbformat_minor": 0
}