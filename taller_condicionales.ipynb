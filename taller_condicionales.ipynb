{
  "cells": [
    {
      "cell_type": "markdown",
      "id": "dec94ec2",
      "metadata": {
        "id": "dec94ec2"
      },
      "source": [
        "# Taller condiciones, bucles y funciones\n",
        "## Inteligencia Artificial con aplicaciones en economia I\n",
        " *Juan Diego Moreno Sánchez*\n",
        " ### 1 ejercicio\n",
        " Escribe un programa que pida la inflación y muestre el porcentaje de aumento salarial aprobado teniendo en cuenta las siguientes condiciones:\n",
        "\n",
        "- Si la inflación es mayor al 10%, el gobierno aprueba un aumento salarial del 12%.\n",
        "\n",
        "- Si la inflación está entre 6% y 10%, el aumento es del 8%.\n",
        "\n",
        "- Si es menor al 6%, el aumento es del 5%"
      ]
    },
    {
      "cell_type": "code",
      "execution_count": null,
      "id": "b5f420bc",
      "metadata": {
        "id": "b5f420bc",
        "outputId": "9a22fc90-b7fc-4c18-bb2f-f4435f8c0a3b"
      },
      "outputs": [
        {
          "name": "stdout",
          "output_type": "stream",
          "text": [
            "el aumento es de 8 %\n"
          ]
        }
      ],
      "source": [
        "entrada = input(\"Ingrese la inflación (%): \")\n",
        "\n",
        "inflacion = 9\n",
        "if inflacion > 10:\n",
        "    aumenta = 12\n",
        "elif inflacion >= 6:\n",
        "    aumenta = 8\n",
        "else: aumenta =5\n",
        "\n",
        "print(\"el aumento es de\", aumenta ,\"%\")"
      ]
    },
    {
      "cell_type": "markdown",
      "id": "a9b2bc7a",
      "metadata": {
        "id": "a9b2bc7a"
      },
      "source": [
        "### Ejercicio 2\n",
        "Tienes una lista con el número de empresas registradas en diferentes ciudades. Usa un ciclo for para contar cuántas ciudades tienen más de 100 empresas y muestra el resultado en pantalla como: \"Número de ciudades con más de 100 empresas: X\""
      ]
    },
    {
      "cell_type": "code",
      "execution_count": null,
      "id": "4af88080",
      "metadata": {
        "id": "4af88080",
        "outputId": "76945b32-7c63-47df-be8e-f35dad32ba35"
      },
      "outputs": [
        {
          "name": "stdout",
          "output_type": "stream",
          "text": [
            "Número de ciudades con más de 100 empresas: 3\n"
          ]
        }
      ],
      "source": [
        "empresas = [120, 85, 340, 210, 95]\n",
        "contador = 0\n",
        "for e in empresas:\n",
        "    if e > 100:\n",
        "        contador += 1\n",
        "\n",
        "print(\"Número de ciudades con más de 100 empresas:\", contador)"
      ]
    },
    {
      "cell_type": "markdown",
      "id": "d5cbc922",
      "metadata": {
        "id": "d5cbc922"
      },
      "source": [
        "### Ejercicio 3\n",
        "Escribe un programa que imprima todos los múltiplos de 5 entre 1 y 50, utilizando range()."
      ]
    },
    {
      "cell_type": "code",
      "execution_count": null,
      "id": "70966841",
      "metadata": {
        "id": "70966841",
        "outputId": "67a35c59-0f8e-4bd3-92c7-22e9fd15c964"
      },
      "outputs": [
        {
          "name": "stdout",
          "output_type": "stream",
          "text": [
            "5\n",
            "10\n",
            "15\n",
            "20\n",
            "25\n",
            "30\n",
            "35\n",
            "40\n",
            "45\n",
            "50\n"
          ]
        }
      ],
      "source": [
        "for i in range (5, 51, 5):\n",
        "    print (i)\n",
        "\n"
      ]
    },
    {
      "cell_type": "markdown",
      "id": "cdc1ce9f",
      "metadata": {
        "id": "cdc1ce9f"
      },
      "source": [
        "## Ejercicio 4\n",
        "Un cajero automático tiene 500.000 pesos disponibles. Un usuario puede retirar varias veces, pero no puede retirar más de lo que queda en el cajero. Escribe un programa que:\n",
        "\n",
        "1) Pregunte cuánto quiere retirar.\n",
        "\n",
        "2) Reste ese valor al saldo.\n",
        "\n",
        "3) Termine cuando el saldo llegue a 0 o el usuario escriba 0."
      ]
    },
    {
      "cell_type": "code",
      "execution_count": null,
      "id": "87f5d7ce",
      "metadata": {
        "id": "87f5d7ce",
        "outputId": "5b0f6456-6862-45b7-99ef-65a95a5e34c5"
      },
      "outputs": [
        {
          "name": "stdout",
          "output_type": "stream",
          "text": [
            "Saldo disponible: 500000\n",
            "Retiro exitoso. Nuevo saldo: 495000\n",
            "Saldo disponible: 495000\n",
            "Operación finalizada. Gracias por usar el cajero.\n"
          ]
        }
      ],
      "source": [
        "\n",
        "saldo = 500000\n",
        "\n",
        "while saldo > 0:\n",
        "    print(\"Saldo disponible:\", saldo)\n",
        "    retiro = int(input(\"¿Cuánto desea retirar? (0 para salir): \"))\n",
        "    if retiro == 0:\n",
        "        print(\"Operación finalizada. Gracias por usar el cajero.\")\n",
        "        break\n",
        "    else:\n",
        "        saldo -= retiro\n",
        "        print(\"Retiro exitoso. Nuevo saldo:\", saldo)\n",
        "\n",
        "    if saldo == 0:\n",
        "        print(\"El cajero se ha quedado sin dinero.\")\n",
        "\n"
      ]
    },
    {
      "cell_type": "markdown",
      "id": "bcfe9564",
      "metadata": {
        "id": "bcfe9564"
      },
      "source": [
        "## Ejercicio 5\n",
        "Crea una función raiz_cuadrada(num) que calcule la raíz cuadrada de un número.\n",
        "\n",
        "Si el número es negativo, devuelve: \"Error: no se puede calcular la raíz cuadrada de un número negativo.\"\n",
        "\n",
        "Si el valor no es numérico, devuelve: \"Error: el valor debe ser numérico.\"\n",
        "\n",
        "NOTA: utiliza import math y la función math.sqrt(num)"
      ]
    },
    {
      "cell_type": "code",
      "execution_count": null,
      "id": "d340e109",
      "metadata": {
        "id": "d340e109"
      },
      "outputs": [],
      "source": [
        "import math\n",
        "\n",
        "def raiz_cuadrada(num):\n",
        "\n",
        "    if not isinstance(num, (int, float)):\n",
        "        return \"Error: el valor debe ser numérico.\"\n",
        "\n",
        "\n",
        "    if num < 0:\n",
        "        return \"Error: no se puede calcular la raíz cuadrada de un número negativo.\"\n",
        "\n",
        "\n",
        "    return math.sqrt(num)\n",
        "\n"
      ]
    },
    {
      "cell_type": "code",
      "execution_count": null,
      "id": "b3d57b8a",
      "metadata": {
        "id": "b3d57b8a",
        "outputId": "385fbc92-89b8-48fa-8c0b-5c99065862ae"
      },
      "outputs": [
        {
          "name": "stdout",
          "output_type": "stream",
          "text": [
            "4.0\n"
          ]
        }
      ],
      "source": [
        "print(raiz_cuadrada(16))"
      ]
    },
    {
      "cell_type": "code",
      "execution_count": null,
      "id": "45c1ee9d",
      "metadata": {
        "id": "45c1ee9d",
        "outputId": "cf1a453b-18df-425b-9e20-0844b7e71b2c"
      },
      "outputs": [
        {
          "name": "stdout",
          "output_type": "stream",
          "text": [
            "Error: no se puede calcular la raíz cuadrada de un número negativo.\n"
          ]
        }
      ],
      "source": [
        "print(raiz_cuadrada(-9))"
      ]
    },
    {
      "cell_type": "code",
      "execution_count": null,
      "id": "a5490bcb",
      "metadata": {
        "id": "a5490bcb",
        "outputId": "751fd90a-aef0-43f1-e3e6-60370a100725"
      },
      "outputs": [
        {
          "name": "stdout",
          "output_type": "stream",
          "text": [
            "Error: el valor debe ser numérico.\n"
          ]
        }
      ],
      "source": [
        "print(raiz_cuadrada(\"abc\"))"
      ]
    },
    {
      "cell_type": "markdown",
      "id": "a4f66b28",
      "metadata": {
        "id": "a4f66b28"
      },
      "source": [
        "## Ejercicio 6\n",
        "Escribe una función llamada es_par que reciba un número entero como parámetro y retorne True si el número es par y False si es impar.\n",
        "\n",
        "NOTA: % es el operador módulo en Python. Lo que hace es dividir un número entre otro y devolver el residuo (lo que sobra de la división entera).\n",
        "\n",
        "Si al dividir un número en 2, el residuo es cero, entonces el número es par, de lo contrario, es impar."
      ]
    },
    {
      "cell_type": "code",
      "execution_count": null,
      "id": "b68f9539",
      "metadata": {
        "id": "b68f9539"
      },
      "outputs": [],
      "source": [
        "def es_par(numero):\n",
        "    if numero % 2 == 0:\n",
        "        return True\n",
        "    else:\n",
        "        return False\n"
      ]
    },
    {
      "cell_type": "code",
      "execution_count": null,
      "id": "703272ba",
      "metadata": {
        "id": "703272ba",
        "outputId": "07cf29ee-6e84-45b1-a7d5-f70da120f082"
      },
      "outputs": [
        {
          "name": "stdout",
          "output_type": "stream",
          "text": [
            "True\n"
          ]
        }
      ],
      "source": [
        "print(es_par(10))"
      ]
    },
    {
      "cell_type": "code",
      "execution_count": null,
      "id": "a680829a",
      "metadata": {
        "id": "a680829a",
        "outputId": "2d2e04ec-cf99-4fdc-ea1f-5fb2c25d1e93"
      },
      "outputs": [
        {
          "name": "stdout",
          "output_type": "stream",
          "text": [
            "False\n"
          ]
        }
      ],
      "source": [
        "print(es_par(7))"
      ]
    },
    {
      "cell_type": "markdown",
      "id": "205221d0",
      "metadata": {
        "id": "205221d0"
      },
      "source": [
        "## ejercicio 7\n",
        "Escribe un código que permita al usuario crear una contraseña y que verifique que esta cumpla todas las siguientes condiciones:\n",
        "\n",
        "- Tiene al menos 8 caracteres.\n",
        "\n",
        "- Contiene al menos una letra mayúscula.\n",
        "\n",
        "- Contiene al menos una letra minúscula.\n",
        "\n",
        "- Contiene al menos un número.\n",
        "\n",
        "Si cumple todas las condiciones, muestra \"Contraseña válida\", de lo contrario, explica qué condición no se cumple."
      ]
    },
    {
      "cell_type": "code",
      "execution_count": null,
      "id": "3fa42da0",
      "metadata": {
        "id": "3fa42da0",
        "outputId": "ae79dc3a-5af1-4565-8631-b6f36ecb970c"
      },
      "outputs": [
        {
          "name": "stdout",
          "output_type": "stream",
          "text": [
            "Contraseña válida\n"
          ]
        }
      ],
      "source": [
        "def verificar_contraseña():\n",
        "    contraseña = input(\"Crea una contraseña: \")\n",
        "\n",
        "\n",
        "    if len(contraseña) < 8:\n",
        "        print(\"La contraseña debe tener al menos 8 caracteres.\")\n",
        "        return\n",
        "\n",
        "    if not any(c.isupper() for c in contraseña):\n",
        "        print(\"La contraseña debe contener al menos una letra mayúscula.\")\n",
        "        return\n",
        "\n",
        "    if not any(c.islower() for c in contraseña):\n",
        "        print(\"La contraseña debe contener al menos una letra minúscula.\")\n",
        "        return\n",
        "\n",
        "    if not any(c.isdigit() for c in contraseña):\n",
        "        print(\"La contraseña debe contener al menos un número.\")\n",
        "        return\n",
        "\n",
        "    print(\"Contraseña válida\")\n",
        "\n",
        "\n",
        "verificar_contraseña()\n"
      ]
    },
    {
      "cell_type": "markdown",
      "id": "58d31f47",
      "metadata": {
        "id": "58d31f47"
      },
      "source": [
        "## ejercicio 8\n",
        "Crea una función llamada \"extraer_dominio\" que extraiga el dominio de una página web a partir de una cadena que contenga un email de la siguiente forma:\n",
        "\n",
        "usuario@dominio.com\n",
        "    \n",
        "Por ejemplo: si se le pasa \"lmcastroco@gmail.com\", la función retornará: gmail.com"
      ]
    },
    {
      "cell_type": "code",
      "execution_count": null,
      "id": "85c57a02",
      "metadata": {
        "id": "85c57a02"
      },
      "outputs": [],
      "source": [
        "def extraer_dominio(email):\n",
        "\n",
        "    if \"@\" not in email:\n",
        "        return \"Error: el formato no es válido, falta '@'.\"\n",
        "\n",
        "\n",
        "    return email.split(\"@\")[1]\n"
      ]
    },
    {
      "cell_type": "code",
      "execution_count": null,
      "id": "bd21cbe6",
      "metadata": {
        "id": "bd21cbe6",
        "outputId": "dc10e8df-3721-490d-f845-dd86140b2335"
      },
      "outputs": [
        {
          "data": {
            "text/plain": [
              "'hotmail.com'"
            ]
          },
          "execution_count": null,
          "metadata": {},
          "output_type": "execute_result"
        }
      ],
      "source": [
        "extraer_dominio('juanita.perez@hotmail.com')"
      ]
    },
    {
      "cell_type": "code",
      "execution_count": null,
      "id": "3dd679a4",
      "metadata": {
        "id": "3dd679a4",
        "outputId": "26be8df1-4e83-4092-e84d-b6cc9da8ebe8"
      },
      "outputs": [
        {
          "data": {
            "text/plain": [
              "'gmail.com'"
            ]
          },
          "execution_count": null,
          "metadata": {},
          "output_type": "execute_result"
        }
      ],
      "source": [
        "extraer_dominio('juanita@gmail.com')"
      ]
    },
    {
      "cell_type": "code",
      "execution_count": null,
      "id": "8d6ea1c3",
      "metadata": {
        "id": "8d6ea1c3",
        "outputId": "76444345-52a2-4500-e6bf-938f422ae3e2"
      },
      "outputs": [
        {
          "data": {
            "text/plain": [
              "\"Error: el formato no es válido, falta '@'.\""
            ]
          },
          "execution_count": null,
          "metadata": {},
          "output_type": "execute_result"
        }
      ],
      "source": [
        "extraer_dominio(\"hola\")"
      ]
    },
    {
      "cell_type": "markdown",
      "id": "13edea36",
      "metadata": {
        "id": "13edea36"
      },
      "source": [
        "## ejercicio 9\n",
        "Escribe una función llamada contar_desempleo que reciba una cadena y retorne el número de veces que aparece la palabra \"desempleo\" en el texto. Ten en cuenta que la palabra puede estar en mayúsculas, minúsculas o una mezcla de ellas, pero por ahora no te preocupes por casos especiales como cuando la palabra tiene algún signo de puntuación inmediatamente despúes de ésta."
      ]
    },
    {
      "cell_type": "code",
      "execution_count": null,
      "id": "537c9974",
      "metadata": {
        "id": "537c9974"
      },
      "outputs": [],
      "source": [
        "def contar_desempleo(texto):\n",
        "    # Pasamos todo a minúsculas para que no importe si está en mayúsculas o mezclado\n",
        "    texto = texto.lower()\n",
        "    # Contamos cuántas veces aparece la palabra \"desempleo\"\n",
        "    return texto.count(\"desempleo\")"
      ]
    },
    {
      "cell_type": "code",
      "execution_count": null,
      "id": "d68e285e",
      "metadata": {
        "id": "d68e285e",
        "outputId": "b52f1002-9304-4bb3-9a9a-35e0b865d83f"
      },
      "outputs": [
        {
          "data": {
            "text/plain": [
              "2"
            ]
          },
          "execution_count": null,
          "metadata": {},
          "output_type": "execute_result"
        }
      ],
      "source": [
        "contar_desempleo(\"El desempleo es un problema. El DESEMPLEO afecta a muchas personas.\")"
      ]
    },
    {
      "cell_type": "code",
      "execution_count": null,
      "id": "49872d45",
      "metadata": {
        "id": "49872d45",
        "outputId": "fd4882ee-c94b-4ee2-dcfe-a907151685eb"
      },
      "outputs": [
        {
          "data": {
            "text/plain": [
              "1"
            ]
          },
          "execution_count": null,
          "metadata": {},
          "output_type": "execute_result"
        }
      ],
      "source": [
        "contar_desempleo(\"El dEseMPLeo aumentó en enero.\")"
      ]
    },
    {
      "cell_type": "code",
      "execution_count": null,
      "id": "4c621961",
      "metadata": {
        "id": "4c621961",
        "outputId": "e21f2d03-a3aa-4423-e66f-45bcc03405dd"
      },
      "outputs": [
        {
          "data": {
            "text/plain": [
              "0"
            ]
          },
          "execution_count": null,
          "metadata": {},
          "output_type": "execute_result"
        }
      ],
      "source": [
        "contar_desempleo(\"El gobierno tiene como meta reducir el número de personas desocupadas un 10%.\")"
      ]
    },
    {
      "cell_type": "markdown",
      "id": "d627839c",
      "metadata": {
        "id": "d627839c"
      },
      "source": [
        "## Ejercicio 10\n",
        "Vas conduciendo un carro muy rápido y eres detenido por un agente de tránsito.\n",
        "\n",
        "Escribe una función \"multa\" que retorne uno de los 3 siguientes resultados:  \n",
        "\n",
        "- Si la velocidad es 60 Km/h o menos, el resultado es \"Sin multa\".\n",
        "- Si la velocidad está entre 60 y 80 Km/h (inclusive), el resultado es \"Multa pequeña\".\n",
        "- Si la velocidad es mayor a 80 Km/h, el resultado es \"Multa grande\".\n",
        "\n",
        "Además, considera que si esto ocurre el día de tu cumpleaños (codificado como parámetro booleano que recibe la función), tu velocidad podría ser 5 Km/ mayor en todos los casos."
      ]
    },
    {
      "cell_type": "code",
      "execution_count": null,
      "id": "a8b59e1b",
      "metadata": {
        "id": "a8b59e1b"
      },
      "outputs": [],
      "source": [
        "def multa(velocidad, es_cumpleaños):\n",
        "\n",
        "    if es_cumpleaños:\n",
        "        velocidad -= 5\n",
        "\n",
        "    if velocidad <= 60:\n",
        "        return \"Sin multa\"\n",
        "    elif velocidad <= 80:\n",
        "        return \"Multa pequeña\"\n",
        "    else:\n",
        "        return \"Multa grande\"\n"
      ]
    },
    {
      "cell_type": "code",
      "execution_count": null,
      "id": "15856d6c",
      "metadata": {
        "id": "15856d6c",
        "outputId": "09a2b778-a527-408d-c287-231279f4fe33"
      },
      "outputs": [
        {
          "data": {
            "text/plain": [
              "'Multa grande'"
            ]
          },
          "execution_count": null,
          "metadata": {},
          "output_type": "execute_result"
        }
      ],
      "source": [
        "multa(81, True)"
      ]
    },
    {
      "cell_type": "code",
      "execution_count": null,
      "id": "55b50e0b",
      "metadata": {
        "id": "55b50e0b",
        "outputId": "d806f978-4d42-4b5b-a163-7e44f3f9e1cc"
      },
      "outputs": [
        {
          "data": {
            "text/plain": [
              "'Multa grande'"
            ]
          },
          "execution_count": null,
          "metadata": {},
          "output_type": "execute_result"
        }
      ],
      "source": [
        "multa(81, False)"
      ]
    }
  ],
  "metadata": {
    "language_info": {
      "name": "python"
    },
    "colab": {
      "provenance": []
    }
  },
  "nbformat": 4,
  "nbformat_minor": 5
}