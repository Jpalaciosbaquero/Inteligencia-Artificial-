{
  "cells": [
    {
      "cell_type": "markdown",
      "metadata": {},
      "source": [
        "# Taller condiciones\n",
        "*Jose Daniel Palacios*\n",
        "### Desarrollo\n",
        "### 1 \n",
        "Escribe un programa que pida la inflación y muestre el porcentaje de aumento salarial aprobado teniendo en cuenta las siguientes condiciones:\n",
        "\n",
        "- Si la inflación es mayor al 10%, el gobierno aprueba un aumento salarial del 12%.\n",
        "- Si la inflación está entre 6% y 10%, el aumento es del 8%.\n",
        "- Si es menor al 6%, el aumento es del 5%."
      ]
    },
    {
      "cell_type": "code",
      "execution_count": null,
      "metadata": {},
      "outputs": [
        {
          "name": "stdout",
          "output_type": "stream",
          "text": [
            "el aumento es de 8 %\n"
          ]
        }
      ],
      "source": [
        "entrada = input(\"Ingrese la inflación (%): \")\n",
        "inflacion = float(entrada)\n",
        "if inflacion > 10:\n",
        "    aumenta = 12\n",
        "elif inflacion >= 6:\n",
        "    aumenta = 8\n",
        "else:\n",
        "    aumenta = 5\n",
        "print(\"el aumento es de\", aumenta ,\"%\")"
      ]
    },
    {
      "cell_type": "markdown",
      "metadata": {},
      "source": [
        "### 2\n",
        "Tienes una lista con el número de empresas registradas en diferentes ciudades. Usa un ciclo for para contar cuántas ciudades tienen más de 100 empresas y muestra el resultado en pantalla como: \"Número de ciudades con más de 100 empresas: X\""
      ]
    },
    {
      "cell_type": "code",
      "execution_count": null,
      "metadata": {},
      "outputs": [
        {
          "name": "stdout",
          "output_type": "stream",
          "text": [
            "Número de ciudades con más de 100 empresas: 3\n"
          ]
        }
      ],
      "source": [
        "empresas = [120, 85, 340, 210, 95]\n",
        "contador = 0\n",
        "for e in empresas:\n",
        "    if e > 100:\n",
        "        contador += 1\n",
        "print(\"Número de ciudades con más de 100 empresas:\", contador)"
      ]
    },
    {
      "cell_type": "markdown",
      "metadata": {},
      "source": [
        "### 3\n",
        "Escribe un programa que imprima todos los múltiplos de 5 entre 1 y 50, utilizando range()."
      ]
    },
    {
      "cell_type": "code",
      "execution_count": null,
      "metadata": {},
      "outputs": [
        {
          "name": "stdout",
          "output_type": "stream",
          "text": [
            "5\n10\n15\n20\n25\n30\n35\n40\n45\n50\n"
          ]
        }
      ],
      "source": [
        "for i in range (5, 51, 5):\n",
        "    print (i)"
      ]
    },
    {
      "cell_type": "markdown",
      "metadata": {},
      "source": [
        "## 4\n",
        "Un cajero automático tiene 500.000 pesos disponibles. Un usuario puede retirar varias veces, pero no puede retirar más de lo que queda en el cajero. Escribe un programa que:\n",
        "1) Pregunte cuánto quiere retirar.\n",
        "2) Reste ese valor al saldo.\n",
        "3) Termine cuando el saldo llegue a 0 o el usuario escriba 0."
      ]
    },
    {
      "cell_type": "code",
      "execution_count": null,
      "metadata": {},
      "outputs": [],
      "source": [
        "saldo = 500000\n",
        "while saldo > 0:\n",
        "    print(\"Saldo disponible:\", saldo)\n",
        "    retiro = int(input(\"¿Cuánto desea retirar? (0 para salir): \"))\n",
        "    if retiro == 0:\n",
        "        print(\"Operación finalizada. Gracias por usar el cajero.\")\n",
        "        break\n",
        "    elif retiro <= saldo:\n",
        "        saldo -= retiro\n",
        "        print(\"Retiro exitoso. Nuevo saldo:\", saldo)\n",
        "    else:\n",
        "        print(\"No puede retirar más de lo que hay en el cajero.\")\n",
        "    if saldo == 0:\n",
        "        print(\"El cajero se ha quedado sin dinero.\")"
      ]
    }
  ],
  "metadata": {
    "kernelspec": {
      "display_name": "Python 3",
      "language": "python",
      "name": "python3"
    },
    "language_info": {
      "name": "python",
      "version": "3.10"
    }
  },
  "nbformat": 4,
  "nbformat_minor": 5
}
